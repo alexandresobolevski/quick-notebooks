{
 "cells": [
  {
   "cell_type": "markdown",
   "metadata": {},
   "source": [
    "### Connect to a PostGIS database"
   ],
   "outputs": []
  },
  {
   "cell_type": "code",
   "execution_count": 1,
   "metadata": {
    "collapsed": false
   },
   "source": [
    "import psycopg2"
   ],
   "outputs": []
  },
  {
   "cell_type": "code",
   "execution_count": 2,
   "metadata": {
    "collapsed": false
   },
   "source": [
    "# help(psycopg2.connect)"
   ],
   "outputs": []
  },
  {
   "cell_type": "code",
   "execution_count": 3,
   "metadata": {
    "collapsed": false
   },
   "source": [
    "credentials = {\n",
    "  'database': 'postgis', \n",
    "  'user': 'masteruser', \n",
    "  'password': 'connecttoplotly',\n",
    "  'port': 5432,\n",
    "  'host': 'test-postgres.cwwxgcilxwxw.us-west-2.rds.amazonaws.com'\n",
    "}"
   ],
   "outputs": []
  },
  {
   "cell_type": "code",
   "execution_count": 4,
   "metadata": {
    "collapsed": false
   },
   "source": [
    "connection = psycopg2.connect(user=credentials['user'], \n",
    "                  \t\t\tpassword=credentials['password'], \n",
    "                  \t\t\tdatabase=credentials['database'], \n",
    "                  \t\t\thost=credentials['host'], \n",
    "                  \t\t\tport=credentials['port'])"
   ],
   "outputs": []
  },
  {
   "cell_type": "code",
   "execution_count": 5,
   "metadata": {
    "collapsed": false
   },
   "source": [
    "cursor = connection.cursor()"
   ],
   "outputs": []
  },
  {
   "cell_type": "code",
   "execution_count": 6,
   "metadata": {
    "collapsed": false
   },
   "source": [
    "connection.autocommit"
   ],
   "outputs": [
    {
     "execution_count": 6,
     "data": {
      "text/plain": [
       "False"
      ]
     },
     "metadata": {},
     "output_type": "execute_result"
    }
   ]
  },
  {
   "cell_type": "markdown",
   "metadata": {},
   "source": [
    "means we have to remember to commit our changes at the end"
   ]
  },
  {
   "cell_type": "markdown",
   "metadata": {},
   "source": [
    "### Now that we have the database cursor, let's create the table scaffold"
   ],
   "outputs": []
  },
  {
   "cell_type": "markdown",
   "execution_count": 19,
   "metadata": {
    "collapsed": false
   },
   "source": [
    "[postgis docs](http://postgis.net/docs/using_postgis_dbmanagement.html)"
   ],
   "outputs": []
  },
  {
   "cell_type": "code",
   "execution_count": 7,
   "metadata": {
    "collapsed": false
   },
   "source": [
    "# help(cursor.execute)"
   ],
   "outputs": []
  },
  {
   "cell_type": "code",
   "execution_count": 8,
   "metadata": {
    "collapsed": false
   },
   "source": [
    "try:\n",
    "  cursor.execute('DROP TABLE test;')\n",
    "except:\n",
    "  pass"
   ],
   "outputs": []
  },
  {
   "cell_type": "code",
   "execution_count": 9,
   "metadata": {
    "collapsed": false
   },
   "source": [
    "response = cursor.fetchall()\n",
    "response"
   ],
   "outputs": [
    {
     "ename": "ProgrammingError",
     "evalue": "no results to fetch",
     "traceback": [
      "\u001b[0;31m---------------------------------------------------------------------------\u001b[0m",
      "\u001b[0;31mProgrammingError\u001b[0m                          Traceback (most recent call last)",
      "\u001b[0;32m<ipython-input-9-6b17ab6daec7>\u001b[0m in \u001b[0;36m<module>\u001b[0;34m()\u001b[0m\n\u001b[0;32m----> 1\u001b[0;31m \u001b[0mresponse\u001b[0m \u001b[0;34m=\u001b[0m \u001b[0mcursor\u001b[0m\u001b[0;34m.\u001b[0m\u001b[0mfetchall\u001b[0m\u001b[0;34m(\u001b[0m\u001b[0;34m)\u001b[0m\u001b[0;34m\u001b[0m\u001b[0m\n\u001b[0m\u001b[1;32m      2\u001b[0m \u001b[0mresponse\u001b[0m\u001b[0;34m\u001b[0m\u001b[0m\n",
      "\u001b[0;31mProgrammingError\u001b[0m: no results to fetch"
     ],
     "output_type": "error"
    }
   ]
  },
  {
   "cell_type": "code",
   "execution_count": 10,
   "metadata": {
    "collapsed": false
   },
   "source": [
    "connection.commit()"
   ],
   "outputs": []
  },
  {
   "cell_type": "code",
   "execution_count": 11,
   "metadata": {
    "collapsed": false
   },
   "source": [
    "sql_create_table = '''CREATE TABLE test \n",
    "( gid serial primary key, \n",
    "  name varchar(20), \n",
    "  point geometry(POINT), \n",
    "  linestring geometry(LINESTRING),  \n",
    "  polygon geometry(POLYGON), \n",
    "  multipoint geometry(MULTIPOINT), \n",
    "  multilinestring geometry(MULTILINESTRING), \n",
    "  multipolygon geometry(MULTIPOLYGON), \n",
    "  geometrycollection geometry(GEOMETRYCOLLECTION));'''"
   ],
   "outputs": []
  },
  {
   "cell_type": "code",
   "execution_count": 12,
   "metadata": {
    "collapsed": false
   },
   "source": [
    "cursor.execute(sql_create_table)"
   ],
   "outputs": []
  },
  {
   "cell_type": "code",
   "execution_count": 13,
   "metadata": {
    "collapsed": false
   },
   "source": [
    "response = cursor.fetchall()\n",
    "response"
   ],
   "outputs": [
    {
     "ename": "ProgrammingError",
     "evalue": "no results to fetch",
     "traceback": [
      "\u001b[0;31m---------------------------------------------------------------------------\u001b[0m",
      "\u001b[0;31mProgrammingError\u001b[0m                          Traceback (most recent call last)",
      "\u001b[0;32m<ipython-input-13-6b17ab6daec7>\u001b[0m in \u001b[0;36m<module>\u001b[0;34m()\u001b[0m\n\u001b[0;32m----> 1\u001b[0;31m \u001b[0mresponse\u001b[0m \u001b[0;34m=\u001b[0m \u001b[0mcursor\u001b[0m\u001b[0;34m.\u001b[0m\u001b[0mfetchall\u001b[0m\u001b[0;34m(\u001b[0m\u001b[0;34m)\u001b[0m\u001b[0;34m\u001b[0m\u001b[0m\n\u001b[0m\u001b[1;32m      2\u001b[0m \u001b[0mresponse\u001b[0m\u001b[0;34m\u001b[0m\u001b[0m\n",
      "\u001b[0;31mProgrammingError\u001b[0m: no results to fetch"
     ],
     "output_type": "error"
    }
   ]
  },
  {
   "cell_type": "code",
   "execution_count": 14,
   "metadata": {
    "collapsed": false
   },
   "source": [
    "connection.commit()"
   ],
   "outputs": []
  },
  {
   "cell_type": "code",
   "execution_count": 15,
   "metadata": {
    "collapsed": false
   },
   "source": [
    "cursor.execute('''\n",
    "SELECT table_schema,table_name \n",
    "FROM information_schema.tables \n",
    "WHERE table_schema='public' \n",
    "ORDER BY table_schema,table_name;\n",
    "''')"
   ],
   "outputs": []
  },
  {
   "cell_type": "code",
   "execution_count": 16,
   "metadata": {
    "collapsed": false
   },
   "source": [
    "response = cursor.fetchall()"
   ],
   "outputs": []
  },
  {
   "cell_type": "code",
   "execution_count": 17,
   "metadata": {
    "collapsed": false
   },
   "source": [
    "response"
   ],
   "outputs": [
    {
     "execution_count": 17,
     "data": {
      "text/plain": [
       "[('public', 'geography_columns'),\n",
       " ('public', 'geometry_columns'),\n",
       " ('public', 'raster_columns'),\n",
       " ('public', 'raster_overviews'),\n",
       " ('public', 'spatial_ref_sys'),\n",
       " ('public', 'test')]"
      ]
     },
     "metadata": {},
     "output_type": "execute_result"
    }
   ]
  },
  {
   "cell_type": "markdown",
   "metadata": {},
   "source": [
    "### Hey hey what do you say, our table 'test' is there!"
   ],
   "outputs": []
  },
  {
   "cell_type": "code",
   "execution_count": 18,
   "metadata": {
    "collapsed": false
   },
   "source": [
    "cursor.execute( 'SELECT * FROM test')"
   ],
   "outputs": []
  },
  {
   "cell_type": "code",
   "execution_count": 19,
   "metadata": {
    "collapsed": false
   },
   "source": [
    "response = cursor.fetchall()\n",
    "response"
   ],
   "outputs": [
    {
     "execution_count": 19,
     "data": {
      "text/plain": [
       "[]"
      ]
     },
     "metadata": {},
     "output_type": "execute_result"
    }
   ]
  },
  {
   "cell_type": "markdown",
   "metadata": {},
   "source": [
    "### Looks like it's empty for now, let's create a row with data for each column (type of data)"
   ],
   "outputs": []
  },
  {
   "cell_type": "code",
   "execution_count": 20,
   "metadata": {
    "collapsed": false
   },
   "source": [
    "cursor.execute('''\n",
    "INSERT INTO test ( name, point, linestring, polygon, multipoint, multilinestring, multipolygon, geometrycollection )\n",
    "VALUES (\n",
    "'geometries',\n",
    "ST_GeomFromText('POINT(0 0)'),\n",
    "ST_GeomFromText('LINESTRING(0 0,1 1,1 2)'),\n",
    "ST_GeomFromText('POLYGON((0 0,4 0,4 4,0 4,0 0),(1 1, 2 1, 2 2, 1 2,1 1))'),\n",
    "ST_GeomFromText('MULTIPOINT((0 0),(1 2))'),\n",
    "ST_GeomFromText('MULTILINESTRING((0 0,1 1,1 2),(2 3,3 2,5 4))'),\n",
    "ST_GeomFromText('MULTIPOLYGON(((0 0,4 0,4 4,0 4,0 0),(1 1,2 1,2 2,1 2,1 1)), ((-1 -1,-1 -2,-2 -2,-2 -1,-1 -1)))'),\n",
    "ST_GeomFromText('GEOMETRYCOLLECTION(POINT(2 3),LINESTRING(2 3,3 4))')\n",
    ")''')"
   ],
   "outputs": []
  },
  {
   "cell_type": "code",
   "execution_count": 21,
   "metadata": {
    "collapsed": false
   },
   "source": [
    "response = cursor.fetchall()\n",
    "response"
   ],
   "outputs": [
    {
     "ename": "ProgrammingError",
     "evalue": "no results to fetch",
     "traceback": [
      "\u001b[0;31m---------------------------------------------------------------------------\u001b[0m",
      "\u001b[0;31mProgrammingError\u001b[0m                          Traceback (most recent call last)",
      "\u001b[0;32m<ipython-input-21-6b17ab6daec7>\u001b[0m in \u001b[0;36m<module>\u001b[0;34m()\u001b[0m\n\u001b[0;32m----> 1\u001b[0;31m \u001b[0mresponse\u001b[0m \u001b[0;34m=\u001b[0m \u001b[0mcursor\u001b[0m\u001b[0;34m.\u001b[0m\u001b[0mfetchall\u001b[0m\u001b[0;34m(\u001b[0m\u001b[0;34m)\u001b[0m\u001b[0;34m\u001b[0m\u001b[0m\n\u001b[0m\u001b[1;32m      2\u001b[0m \u001b[0mresponse\u001b[0m\u001b[0;34m\u001b[0m\u001b[0m\n",
      "\u001b[0;31mProgrammingError\u001b[0m: no results to fetch"
     ],
     "output_type": "error"
    }
   ]
  },
  {
   "cell_type": "code",
   "execution_count": 22,
   "metadata": {
    "collapsed": false
   },
   "source": [
    "connection.commit()"
   ],
   "outputs": []
  },
  {
   "cell_type": "markdown",
   "metadata": {},
   "source": [
    "### Let's make sure the data is there by querying the dsatabase since the last commit"
   ],
   "outputs": []
  },
  {
   "cell_type": "code",
   "execution_count": 23,
   "metadata": {
    "collapsed": false
   },
   "source": [
    "cursor.execute('''\n",
    "SELECT name, St_AsText(point), St_AsText(linestring), St_AsText(polygon), St_AsText(multipoint), \n",
    "St_AsText(multilinestring), St_AsText(multipolygon), St_AsText(geometrycollection) \n",
    "FROM test'''\n",
    ")"
   ],
   "outputs": []
  },
  {
   "cell_type": "code",
   "execution_count": 24,
   "metadata": {
    "collapsed": false
   },
   "source": [
    "response = cursor.fetchall()"
   ],
   "outputs": []
  },
  {
   "cell_type": "code",
   "execution_count": 25,
   "metadata": {
    "collapsed": false
   },
   "source": [
    "response"
   ],
   "outputs": [
    {
     "execution_count": 25,
     "data": {
      "text/plain": [
       "[('geometries',\n",
       "  'POINT(0 0)',\n",
       "  'LINESTRING(0 0,1 1,1 2)',\n",
       "  'POLYGON((0 0,4 0,4 4,0 4,0 0),(1 1,2 1,2 2,1 2,1 1))',\n",
       "  'MULTIPOINT(0 0,1 2)',\n",
       "  'MULTILINESTRING((0 0,1 1,1 2),(2 3,3 2,5 4))',\n",
       "  'MULTIPOLYGON(((0 0,4 0,4 4,0 4,0 0),(1 1,2 1,2 2,1 2,1 1)),((-1 -1,-1 -2,-2 -2,-2 -1,-1 -1)))',\n",
       "  'GEOMETRYCOLLECTION(POINT(2 3),LINESTRING(2 3,3 4))')]"
      ]
     },
     "metadata": {},
     "output_type": "execute_result"
    }
   ]
  },
  {
   "cell_type": "markdown",
   "metadata": {},
   "source": [
    "### Everything seems in place"
   ],
   "outputs": []
  },
  {
   "cell_type": "code",
   "execution_count": 26,
   "metadata": {
    "collapsed": false
   },
   "source": [
    "connection.close()"
   ],
   "outputs": []
  },
  {
   "cell_type": "code",
   "execution_count": null,
   "metadata": {
    "collapsed": false
   },
   "source": [],
   "outputs": []
  },
  {
   "cell_type": "code",
   "execution_count": null,
   "metadata": {
    "collapsed": false
   },
   "source": [],
   "outputs": []
  },
  {
   "cell_type": "code",
   "execution_count": null,
   "metadata": {
    "collapsed": false
   },
   "source": [],
   "outputs": []
  },
  {
   "cell_type": "code",
   "execution_count": null,
   "metadata": {
    "collapsed": false
   },
   "source": [],
   "outputs": []
  }
 ],
 "nbformat": 4,
 "nbformat_minor": 0,
 "metadata": {
  "kernelspec": {
   "name": "python2",
   "language": "python",
   "display_name": "Python 2"
  },
  "kernel_info": {
   "name": "python2"
  },
  "language_info": {
   "mimetype": "text/x-python",
   "nbconvert_exporter": "python",
   "name": "python",
   "pygments_lexer": "ipython2",
   "version": "2.7.12",
   "file_extension": ".py",
   "codemirror_mode": {
    "version": 2,
    "name": "ipython"
   }
  }
 }
}