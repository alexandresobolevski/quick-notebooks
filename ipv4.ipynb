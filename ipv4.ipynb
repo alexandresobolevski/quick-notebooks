{
 "cells": [
  {
   "cell_type": "code",
   "execution_count": 1,
   "metadata": {
    "collapsed": false
   },
   "outputs": [],
   "source": [
    "from elasticsearch import Elasticsearch\n",
    "from elasticsearch_dsl import Search, Q"
   ]
  },
  {
   "cell_type": "code",
   "execution_count": 2,
   "metadata": {
    "collapsed": false
   },
   "outputs": [
    {
     "name": "stderr",
     "output_type": "stream",
     "text": [
      "//anaconda/lib/python2.7/site-packages/elasticsearch/connection/http_urllib3.py:70: UserWarning: Connecting to 67a7441549120daa2dbeef8ac4f5bb2e.us-east-1.aws.found.io using SSL with verify_certs=False is insecure.\n",
      "  'Connecting to %s using SSL with verify_certs=False is insecure.' % host)\n"
     ]
    }
   ],
   "source": [
    "client = Elasticsearch('https://awsaccount:1234')"
   ]
  },
  {
   "cell_type": "code",
   "execution_count": 3,
   "metadata": {
    "collapsed": false
   },
   "outputs": [
    {
     "name": "stderr",
     "output_type": "stream",
     "text": [
      "//anaconda/lib/python2.7/site-packages/urllib3/connectionpool.py:769: InsecureRequestWarning: Unverified HTTPS request is being made. Adding certificate verification is strongly advised. See: https://urllib3.readthedocs.org/en/latest/security.html\n",
      "  InsecureRequestWarning)\n"
     ]
    },
    {
     "data": {
      "text/plain": [
       "True"
      ]
     },
     "execution_count": 3,
     "metadata": {},
     "output_type": "execute_result"
    }
   ],
   "source": [
    "client.ping()"
   ]
  },
  {
   "cell_type": "code",
   "execution_count": 25,
   "metadata": {
    "collapsed": false
   },
   "outputs": [
    {
     "name": "stderr",
     "output_type": "stream",
     "text": [
      "//anaconda/lib/python2.7/site-packages/urllib3/connectionpool.py:769: InsecureRequestWarning: Unverified HTTPS request is being made. Adding certificate verification is strongly advised. See: https://urllib3.readthedocs.org/en/latest/security.html\n",
      "  InsecureRequestWarning)\n"
     ]
    },
    {
     "data": {
      "text/plain": [
       "{u'live-data': {u'mappings': {u'test-type': {u'properties': {u'boolean': {u'type': u'boolean'},\n",
       "     u'date': {u'format': u'strict_date_optional_time||epoch_millis',\n",
       "      u'type': u'date'},\n",
       "     u'double': {u'type': u'double'},\n",
       "     u'geo_point-1': {u'type': u'geo_point'},\n",
       "     u'geo_point-2': {u'type': u'geo_point'},\n",
       "     u'geo_point-3': {u'type': u'geo_point'},\n",
       "     u'integer': {u'type': u'integer'},\n",
       "     u'ip': {u'type': u'ip'},\n",
       "     u'string-1': {u'type': u'string'},\n",
       "     u'string-2': {u'type': u'string'},\n",
       "     u'token': {u'analyzer': u'standard', u'type': u'token_count'}}}}},\n",
       " u'plotly_datasets': {u'mappings': {u'consumer_complaints': {u'properties': {u'Company': {u'type': u'string'},\n",
       "     u'Company response': {u'type': u'string'},\n",
       "     u'Complaint ID': {u'type': u'integer'},\n",
       "     u'Consumer disputed?': {u'type': u'string'},\n",
       "     u'Date received': {u'format': u'strict_date_optional_time',\n",
       "      u'type': u'date'},\n",
       "     u'Date sent to company': {u'format': u'strict_date_optional_time',\n",
       "      u'type': u'date'},\n",
       "     u'Issue': {u'type': u'string'},\n",
       "     u'Product': {u'type': u'string'},\n",
       "     u'State': {u'type': u'string'},\n",
       "     u'Sub-issue': {u'type': u'string'},\n",
       "     u'Sub-product': {u'type': u'string'},\n",
       "     u'Timely response?': {u'type': u'string'},\n",
       "     u'ZIP code': {u'type': u'integer'}}},\n",
       "   u'ebola_2014': {u'properties': {u'Country': {u'type': u'string'},\n",
       "     u'Lat': {u'type': u'float'},\n",
       "     u'Lon': {u'type': u'float'},\n",
       "     u'Month': {u'type': u'integer'},\n",
       "     u'Value': {u'type': u'float'},\n",
       "     u'Year': {u'type': u'integer'},\n",
       "     u'index': {u'type': u'integer'}}}}},\n",
       " u'sample-data': {u'mappings': {u'test-ranges': {u'properties': {u'Date': {u'format': u'strict_date_optional_time||epoch_millis',\n",
       "      u'type': u'date'},\n",
       "     u'Float': {u'type': u'float'},\n",
       "     u'Integer': {u'type': u'integer'},\n",
       "     u'Ipv4': {u'type': u'ip'},\n",
       "     u'String': {u'type': u'string'}}},\n",
       "   u'test-scroll': {u'properties': {u'fifth': {u'type': u'float'},\n",
       "     u'first': {u'type': u'float'},\n",
       "     u'fourth': {u'type': u'float'},\n",
       "     u'second': {u'type': u'float'},\n",
       "     u'third': {u'type': u'float'}}},\n",
       "   u'test-type': {u'properties': {u'my-boolean-1': {u'type': u'boolean'},\n",
       "     u'my-boolean-2': {u'type': u'boolean'},\n",
       "     u'my-date-1': {u'format': u'strict_date_optional_time||epoch_millis',\n",
       "      u'type': u'date'},\n",
       "     u'my-date-2': {u'format': u'strict_date_optional_time||epoch_millis',\n",
       "      u'type': u'date'},\n",
       "     u'my-geo-point-1': {u'type': u'geo_point'},\n",
       "     u'my-geo-point-2': {u'type': u'geo_point'},\n",
       "     u'my-number-1': {u'type': u'long'},\n",
       "     u'my-number-2': {u'type': u'long'},\n",
       "     u'my-string-1': {u'type': u'string'},\n",
       "     u'my-string-2': {u'type': u'string'}}}}},\n",
       " u'test-scroll': {u'mappings': {u'200k': {u'properties': {u'Column 1': {u'type': u'double'},\n",
       "     u'Column 2': {u'type': u'double'},\n",
       "     u'Column 3': {u'type': u'double'},\n",
       "     u'Column 4': {u'type': u'double'}}}}},\n",
       " u'test-types': {u'mappings': {u'elastic-2.4-types': {u'properties': {u'boolean': {u'type': u'boolean'},\n",
       "     u'date': {u'format': u'strict_date_optional_time||epoch_millis',\n",
       "      u'type': u'date'},\n",
       "     u'double': {u'type': u'double'},\n",
       "     u'geo_point-1': {u'type': u'geo_point'},\n",
       "     u'geo_point-2': {u'type': u'geo_point'},\n",
       "     u'geo_point-3': {u'type': u'geo_point'},\n",
       "     u'integer': {u'type': u'integer'},\n",
       "     u'ip': {u'type': u'ip'},\n",
       "     u'string-1': {u'type': u'string'},\n",
       "     u'string-2': {u'type': u'string'},\n",
       "     u'token': {u'analyzer': u'standard', u'type': u'token_count'}}}}}}"
      ]
     },
     "execution_count": 25,
     "metadata": {},
     "output_type": "execute_result"
    }
   ],
   "source": [
    "client.indices.get_mapping()"
   ]
  },
  {
   "cell_type": "code",
   "execution_count": 5,
   "metadata": {
    "collapsed": false
   },
   "outputs": [
    {
     "name": "stdout",
     "output_type": "stream",
     "text": [
      "2016-12-13 12:52:23.753378-05:00\n"
     ]
    },
    {
     "name": "stderr",
     "output_type": "stream",
     "text": [
      "//anaconda/lib/python2.7/site-packages/pandas/computation/__init__.py:19: UserWarning: The installed version of numexpr 2.4.4 is not supported in pandas and will be not be used\n",
      "\n",
      "  UserWarning)\n"
     ]
    }
   ],
   "source": [
    "import datetime\n",
    "from pytz import timezone\n",
    "import random\n",
    "import pandas as pd\n",
    "\n",
    "now = datetime.datetime.now(timezone('US/Eastern'))\n",
    "print(now)\n",
    "\n",
    "def randomSingleDigit():\n",
    "  return int(random.random()*10)\n",
    "\n",
    "colors = ['red', 'blue', 'green', 'yellow', 'black', 'white', 'pink', 'grey', 'orange', 'beige']\n",
    "def getRandomString():\n",
    "  index = randomSingleDigit()\n",
    "  return colors[index]"
   ]
  },
  {
   "cell_type": "code",
   "execution_count": 15,
   "metadata": {
    "collapsed": false
   },
   "outputs": [],
   "source": [
    "N = 100\n",
    "df = pd.DataFrame(\n",
    "    columns=['Date', 'Float', 'Integer', 'String', 'Ipv4'],\n",
    "    data=zip(*[\n",
    "        # date\n",
    "\t\t[now - datetime.timedelta(days=30 * i) for i in range(N)],\n",
    "        # double\n",
    "        [random.random() for i in range(N)],\n",
    "        # integer\n",
    "        range(N),\n",
    "        # text\n",
    "        [getRandomString() for _ in range(N)],\n",
    "\t\t# ipv4\n",
    "        [\".\".join(map(str, (random.randint(0, 255) for _ in range(4)))) for i in range(N)]\n",
    "    ])\n",
    ")\n",
    "        \n"
   ]
  },
  {
   "cell_type": "code",
   "execution_count": 16,
   "metadata": {
    "collapsed": false
   },
   "outputs": [
    {
     "data": {
      "text/html": [
       "<div>\n",
       "<table border=\"1\" class=\"dataframe\">\n",
       "  <thead>\n",
       "    <tr style=\"text-align: right;\">\n",
       "      <th></th>\n",
       "      <th>Date</th>\n",
       "      <th>Float</th>\n",
       "      <th>Integer</th>\n",
       "      <th>String</th>\n",
       "      <th>Ipv4</th>\n",
       "    </tr>\n",
       "  </thead>\n",
       "  <tbody>\n",
       "    <tr>\n",
       "      <th>0</th>\n",
       "      <td>2016-12-13 12:52:23.753378-05:00</td>\n",
       "      <td>0.442185</td>\n",
       "      <td>0</td>\n",
       "      <td>white</td>\n",
       "      <td>192.20.222.22</td>\n",
       "    </tr>\n",
       "    <tr>\n",
       "      <th>1</th>\n",
       "      <td>2016-11-13 12:52:23.753378-05:00</td>\n",
       "      <td>0.189752</td>\n",
       "      <td>1</td>\n",
       "      <td>white</td>\n",
       "      <td>70.94.112.186</td>\n",
       "    </tr>\n",
       "    <tr>\n",
       "      <th>2</th>\n",
       "      <td>2016-10-14 13:52:23.753378-04:00</td>\n",
       "      <td>0.543390</td>\n",
       "      <td>2</td>\n",
       "      <td>green</td>\n",
       "      <td>163.191.90.207</td>\n",
       "    </tr>\n",
       "    <tr>\n",
       "      <th>3</th>\n",
       "      <td>2016-09-14 13:52:23.753378-04:00</td>\n",
       "      <td>0.742153</td>\n",
       "      <td>3</td>\n",
       "      <td>beige</td>\n",
       "      <td>225.189.125.33</td>\n",
       "    </tr>\n",
       "    <tr>\n",
       "      <th>4</th>\n",
       "      <td>2016-08-15 13:52:23.753378-04:00</td>\n",
       "      <td>0.750329</td>\n",
       "      <td>4</td>\n",
       "      <td>beige</td>\n",
       "      <td>64.193.233.31</td>\n",
       "    </tr>\n",
       "  </tbody>\n",
       "</table>\n",
       "</div>"
      ],
      "text/plain": [
       "                              Date     Float  Integer String            Ipv4\n",
       "0 2016-12-13 12:52:23.753378-05:00  0.442185        0  white   192.20.222.22\n",
       "1 2016-11-13 12:52:23.753378-05:00  0.189752        1  white   70.94.112.186\n",
       "2 2016-10-14 13:52:23.753378-04:00  0.543390        2  green  163.191.90.207\n",
       "3 2016-09-14 13:52:23.753378-04:00  0.742153        3  beige  225.189.125.33\n",
       "4 2016-08-15 13:52:23.753378-04:00  0.750329        4  beige   64.193.233.31"
      ]
     },
     "execution_count": 16,
     "metadata": {},
     "output_type": "execute_result"
    }
   ],
   "source": [
    "df.head()"
   ]
  },
  {
   "cell_type": "code",
   "execution_count": 18,
   "metadata": {
    "collapsed": false
   },
   "outputs": [],
   "source": [
    "bulk = []\n",
    "for i in range(len(df)):\n",
    "    bulk.append({'index': {'_index': 'sample-data', '_type': 'test-ranges', '_id': str(i)}})\n",
    "    bulk.append(df.iloc[i].to_dict())"
   ]
  },
  {
   "cell_type": "code",
   "execution_count": 19,
   "metadata": {
    "collapsed": false
   },
   "outputs": [
    {
     "name": "stderr",
     "output_type": "stream",
     "text": [
      "//anaconda/lib/python2.7/site-packages/urllib3/connectionpool.py:769: InsecureRequestWarning: Unverified HTTPS request is being made. Adding certificate verification is strongly advised. See: https://urllib3.readthedocs.org/en/latest/security.html\n",
      "  InsecureRequestWarning)\n"
     ]
    }
   ],
   "source": [
    "response = client.bulk(bulk, request_timeout=100000)"
   ]
  },
  {
   "cell_type": "code",
   "execution_count": 20,
   "metadata": {
    "collapsed": false
   },
   "outputs": [
    {
     "data": {
      "text/plain": [
       "False"
      ]
     },
     "execution_count": 20,
     "metadata": {},
     "output_type": "execute_result"
    }
   ],
   "source": [
    "response['errors']"
   ]
  },
  {
   "cell_type": "code",
   "execution_count": 21,
   "metadata": {
    "collapsed": false
   },
   "outputs": [
    {
     "data": {
      "text/plain": [
       "14"
      ]
     },
     "execution_count": 21,
     "metadata": {},
     "output_type": "execute_result"
    }
   ],
   "source": [
    "response['took']"
   ]
  },
  {
   "cell_type": "code",
   "execution_count": 22,
   "metadata": {
    "collapsed": false
   },
   "outputs": [
    {
     "data": {
      "text/plain": [
       "100"
      ]
     },
     "execution_count": 22,
     "metadata": {},
     "output_type": "execute_result"
    }
   ],
   "source": [
    "len(response['items'])"
   ]
  },
  {
   "cell_type": "code",
   "execution_count": 23,
   "metadata": {
    "collapsed": false
   },
   "outputs": [
    {
     "data": {
      "text/plain": [
       "True"
      ]
     },
     "execution_count": 23,
     "metadata": {},
     "output_type": "execute_result"
    }
   ],
   "source": [
    "response['items'][0]['index']['status'] == 201"
   ]
  },
  {
   "cell_type": "code",
   "execution_count": 143,
   "metadata": {
    "collapsed": false
   },
   "outputs": [
    {
     "data": {
      "text/plain": [
       "0"
      ]
     },
     "execution_count": 143,
     "metadata": {},
     "output_type": "execute_result",
     "text": []
    }
   ],
   "source": [
    "errors = [res for res in response['items'] if res['index']['status'] != 201]\n",
    "len(errors)"
   ]
  },
  {
   "cell_type": "code",
   "execution_count": 24,
   "metadata": {
    "collapsed": false
   },
   "outputs": [
    {
     "name": "stderr",
     "output_type": "stream",
     "text": [
      "//anaconda/lib/python2.7/site-packages/urllib3/connectionpool.py:769: InsecureRequestWarning: Unverified HTTPS request is being made. Adding certificate verification is strongly advised. See: https://urllib3.readthedocs.org/en/latest/security.html\n",
      "  InsecureRequestWarning)\n"
     ]
    },
    {
     "data": {
      "text/plain": [
       "{u'acknowledged': True}"
      ]
     },
     "execution_count": 24,
     "metadata": {},
     "output_type": "execute_result"
    }
   ],
   "source": [
    "client.indices.delete('sample-date')"
   ]
  },
  {
   "cell_type": "code",
   "execution_count": null,
   "metadata": {
    "collapsed": false
   },
   "outputs": [],
   "source": []
  }
 ],
 "metadata": {
  "anaconda-cloud": {},
  "kernel_info": {
   "name": "python2"
  },
  "kernelspec": {
   "display_name": "Python 2",
   "language": "python",
   "name": "python2"
  },
  "language_info": {
   "codemirror_mode": {
    "name": "ipython",
    "version": 2
   },
   "file_extension": ".py",
   "mimetype": "text/x-python",
   "name": "python",
   "nbconvert_exporter": "python",
   "pygments_lexer": "ipython2",
   "version": "2.7.12"
  }
 },
 "nbformat": 4,
 "nbformat_minor": 0
}
