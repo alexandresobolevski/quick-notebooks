{
 "cells": [
  {
   "cell_type": "code",
   "execution_count": 10,
   "metadata": {
    "collapsed": false
   },
   "source": [
    "import pandas as pd\n",
    "import sqlite3\n",
    "import glob, os"
   ],
   "outputs": []
  },
  {
   "cell_type": "code",
   "execution_count": 11,
   "metadata": {
    "collapsed": false
   },
   "source": [
    "os.chdir(\"/Users/Alexandre/Workstation/repos/datasets/\")\n",
    "csvFiles = glob.glob(\"*.csv\")\n",
    "print csvFiles"
   ],
   "outputs": [
    {
     "text": [
      "['alcohol_consumption_by_country_2010.csv', 'alpha_shape.csv', 'apple_stock_2014.csv', 'bar-charts-with-excel.csv', 'bubble_chart_tutorial.csv', 'candlestick_dataset_2007_2009.csv', 'cost_output_defective.csv', 'data.csv', 'data_dictionary.csv', 'dot-plot-with-excel.csv', 'ebola_2014.csv', 'february_aa_flight_paths_2011.csv', 'february_us_airport_traffic_2011.csv', 'GanttChart-updated.csv', 'GanttChart.csv', 'gapminderDataFiveYear.csv', 'globe_contours.csv', 'histogram_simple.csv', 'inset.csv', 'iris.csv', 'label-text.csv', 'latex-typesetting-with-excel.csv', 'line_3d_dataset.csv', 'medicare.csv', 'medicare_cost.csv', 'motor_trend_car_road_tests.csv', 'multiple_y_axis.csv', 'nhl_draft_2013_@thejustinfisher.csv', 'okcupid-compatibility-by-religion.csv', 'pareto-chart.csv', 'pie-charts-with-excel.csv', 'precipitation_2015_06_30.csv', 'processed_data.csv', 'school_earnings.csv', 'shaded-region.csv', 'spectral.csv', 'stockdata.csv', 'subplot.csv', 'subplots.csv', 'time-series-with-error-bars-excel.csv', 'timeseries.csv', 'us_ag_exports_2011.csv', 'us_cities_2014.csv', 'usa_states_2014.csv', 'volcano.csv', 'walmart_store_openings_1962_2006.csv', 'weather_data_seattle_2016.csv', 'wind_rose.csv', 'wind_speed_laurel_nebraska.csv', 'world_gdp_with_codes_2014.csv']\n"
     ],
     "name": "stdout",
     "output_type": "stream"
    }
   ]
  },
  {
   "cell_type": "code",
   "execution_count": 12,
   "metadata": {
    "collapsed": false
   },
   "source": [
    "connection = sqlite3.connect(\"/Users/Alexandre/Workstation/databases/plotly_datasets.db\")"
   ],
   "outputs": []
  },
  {
   "cell_type": "code",
   "execution_count": 23,
   "metadata": {
    "collapsed": false
   },
   "source": [
    "for file in csvFiles:\n",
    "  try:\n",
    "    df = pd.DataFrame(pd.read_csv(\"/Users/Alexandre/Workstation/repos/datasets/\" + file))\n",
    "    df.to_sql(file[:-4], connection, if_exists='replace')\n",
    "  except Exception as e:\n",
    "    print file\n",
    "    print e"
   ],
   "outputs": [
    {
     "text": [
      "subplots.csv\n",
      "'ascii' codec can't decode byte 0xcf in position 2: ordinal not in range(128)\n"
     ],
     "name": "stdout",
     "output_type": "stream"
    }
   ]
  },
  {
   "cell_type": "code",
   "execution_count": 24,
   "metadata": {
    "collapsed": false
   },
   "source": [
    "connection.commit()"
   ],
   "outputs": []
  },
  {
   "cell_type": "code",
   "execution_count": 25,
   "metadata": {
    "collapsed": false
   },
   "source": [
    "connection.close()"
   ],
   "outputs": []
  },
  {
   "cell_type": "code",
   "execution_count": null,
   "metadata": {
    "collapsed": false
   },
   "source": [],
   "outputs": []
  }
 ],
 "nbformat": 4,
 "nbformat_minor": 0,
 "metadata": {
  "kernelspec": {
   "name": "python2",
   "language": "python",
   "display_name": "Python 2"
  },
  "kernel_info": {
   "name": "python2"
  },
  "language_info": {
   "mimetype": "text/x-python",
   "nbconvert_exporter": "python",
   "name": "python",
   "pygments_lexer": "ipython2",
   "version": "2.7.12",
   "file_extension": ".py",
   "codemirror_mode": {
    "version": 2,
    "name": "ipython"
   }
  }
 }
}