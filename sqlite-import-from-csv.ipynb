{
 "cells": [
  {
   "cell_type": "code",
   "execution_count": 1,
   "metadata": {
    "collapsed": false
   },
   "outputs": [],
   "source": [
    "import pandas as pd\n",
    "import sqlite3\n",
    "import glob, os, fnmatch"
   ]
  },
  {
   "cell_type": "code",
   "execution_count": 12,
   "metadata": {
    "collapsed": false
   },
   "outputs": [
    {
     "name": "stdout",
     "output_type": "stream",
     "text": [
      "['/Users/Alexandre/Workstation/kaggle/world_development_indicators/Country.csv', '/Users/Alexandre/Workstation/kaggle/world_development_indicators/CountryNotes.csv', '/Users/Alexandre/Workstation/kaggle/world_development_indicators/Footnotes.csv', '/Users/Alexandre/Workstation/kaggle/world_development_indicators/Indicators.csv', '/Users/Alexandre/Workstation/kaggle/world_development_indicators/Series.csv', '/Users/Alexandre/Workstation/kaggle/world_development_indicators/SeriesNotes.csv']\n"
     ]
    }
   ],
   "source": [
    "matches = []\n",
    "for root, dirnames, filenames in os.walk('/Users/Alexandre/Workstation/kaggle/world_development_indicators'):\n",
    "    for filename in fnmatch.filter(filenames, '*.csv'):\n",
    "        matches.append(os.path.join(root, filename))\n",
    "print matches"
   ]
  },
  {
   "cell_type": "code",
   "execution_count": 13,
   "metadata": {
    "collapsed": false
   },
   "outputs": [],
   "source": [
    "connection = sqlite3.connect(\"/Users/Alexandre/Workstation/databases/world_development_indicators.db\")"
   ]
  },
  {
   "cell_type": "code",
   "execution_count": 14,
   "metadata": {
    "collapsed": false
   },
   "outputs": [
    {
     "name": "stdout",
     "output_type": "stream",
     "text": [
      "Country ... done\n",
      "CountryNotes ... done\n",
      "Footnotes ... done\n",
      "Indicators ... done\n",
      "Series ... done\n",
      "SeriesNotes ... done\n"
     ]
    }
   ],
   "source": [
    "for file in matches:\n",
    "    try:\n",
    "        tableName = file.split('/')[-1][:-4].replace('-', '_')\n",
    "        df = pd.DataFrame(pd.read_csv(file, encoding='latin-1'))\n",
    "        df.to_sql(tableName,connection, flavor='sqlite', if_exists='replace')\n",
    "        print tableName + ' ... done'\n",
    "    except Exception as e:\n",
    "        print tableName\n",
    "        print e"
   ]
  },
  {
   "cell_type": "code",
   "execution_count": 15,
   "metadata": {
    "collapsed": false
   },
   "outputs": [],
   "source": [
    "connection.commit()"
   ]
  },
  {
   "cell_type": "code",
   "execution_count": 16,
   "metadata": {
    "collapsed": false
   },
   "outputs": [],
   "source": [
    "connection.close()"
   ]
  },
  {
   "cell_type": "code",
   "execution_count": null,
   "metadata": {
    "collapsed": false
   },
   "outputs": [],
   "source": []
  }
 ],
 "metadata": {
  "anaconda-cloud": {},
  "kernel_info": {
   "name": "python2"
  },
  "kernelspec": {
   "display_name": "Python [default]",
   "language": "python",
   "name": "python2"
  },
  "language_info": {
   "codemirror_mode": {
    "name": "ipython",
    "version": 2
   },
   "file_extension": ".py",
   "mimetype": "text/x-python",
   "name": "python",
   "nbconvert_exporter": "python",
   "pygments_lexer": "ipython2",
   "version": "2.7.12"
  }
 },
 "nbformat": 4,
 "nbformat_minor": 0
}
