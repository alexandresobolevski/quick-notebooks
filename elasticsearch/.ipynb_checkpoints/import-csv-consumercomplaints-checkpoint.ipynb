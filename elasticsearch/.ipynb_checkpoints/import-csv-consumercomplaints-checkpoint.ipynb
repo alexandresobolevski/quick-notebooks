{
 "cells": [
  {
   "cell_type": "code",
   "execution_count": 1,
   "metadata": {
    "collapsed": false
   },
   "outputs": [],
   "source": [
    "from elasticsearch import Elasticsearch\n",
    "from elasticsearch_dsl import Search, Q"
   ]
  },
  {
   "cell_type": "code",
   "execution_count": 2,
   "metadata": {
    "collapsed": false
   },
   "outputs": [
    {
     "name": "stderr",
     "output_type": "stream",
     "text": [
      "//anaconda/lib/python2.7/site-packages/elasticsearch/connection/http_urllib3.py:70: UserWarning: Connecting to 67a7441549120daa2dbeef8ac4f5bb2e.us-east-1.aws.found.io using SSL with verify_certs=False is insecure.\n",
      "  'Connecting to %s using SSL with verify_certs=False is insecure.' % host)\n"
     ]
    }
   ],
   "source": [
    "client = Elasticsearch('')"
   ]
  },
  {
   "cell_type": "code",
   "execution_count": 4,
   "metadata": {
    "collapsed": false
   },
   "outputs": [
    {
     "name": "stderr",
     "output_type": "stream",
     "text": [
      "//anaconda/lib/python2.7/site-packages/urllib3/connectionpool.py:769: InsecureRequestWarning: Unverified HTTPS request is being made. Adding certificate verification is strongly advised. See: https://urllib3.readthedocs.org/en/latest/security.html\n",
      "  InsecureRequestWarning)\n"
     ]
    },
    {
     "data": {
      "text/plain": [
       "True"
      ]
     },
     "execution_count": 4,
     "metadata": {},
     "output_type": "execute_result"
    }
   ],
   "source": [
    "client.ping()"
   ]
  },
  {
   "cell_type": "code",
   "execution_count": 5,
   "metadata": {
    "collapsed": false
   },
   "outputs": [
    {
     "name": "stderr",
     "output_type": "stream",
     "text": [
      "//anaconda/lib/python2.7/site-packages/urllib3/connectionpool.py:769: InsecureRequestWarning: Unverified HTTPS request is being made. Adding certificate verification is strongly advised. See: https://urllib3.readthedocs.org/en/latest/security.html\n",
      "  InsecureRequestWarning)\n"
     ]
    },
    {
     "data": {
      "text/plain": [
       "{u'plotly_datasets': {u'mappings': {u'ebola_2014': {u'properties': {u'Country': {u'type': u'string'},\n",
       "     u'Lat': {u'type': u'float'},\n",
       "     u'Lon': {u'type': u'float'},\n",
       "     u'Month': {u'type': u'integer'},\n",
       "     u'Value': {u'type': u'float'},\n",
       "     u'Year': {u'type': u'integer'},\n",
       "     u'index': {u'type': u'integer'}}}}},\n",
       " u'sample-data': {u'mappings': {u'test-type': {u'properties': {u'my-boolean-1': {u'type': u'boolean'},\n",
       "     u'my-boolean-2': {u'type': u'boolean'},\n",
       "     u'my-date-1': {u'format': u'strict_date_optional_time||epoch_millis',\n",
       "      u'type': u'date'},\n",
       "     u'my-date-2': {u'format': u'strict_date_optional_time||epoch_millis',\n",
       "      u'type': u'date'},\n",
       "     u'my-geo-point-1': {u'type': u'geo_point'},\n",
       "     u'my-geo-point-2': {u'type': u'geo_point'},\n",
       "     u'my-number-1': {u'type': u'long'},\n",
       "     u'my-number-2': {u'type': u'long'},\n",
       "     u'my-string-1': {u'type': u'string'},\n",
       "     u'my-string-2': {u'type': u'string'}}}}}}"
      ]
     },
     "execution_count": 5,
     "metadata": {},
     "output_type": "execute_result"
    }
   ],
   "source": [
    "client.indices.get_mapping()"
   ]
  },
  {
   "cell_type": "code",
   "execution_count": 10,
   "metadata": {
    "collapsed": false
   },
   "outputs": [],
   "source": [
    "import pandas as pd\n",
    "df = pd.DataFrame(pd.read_csv(\"/Users/Alexandre/Workstation/databases/26k-consumer-complaints.csv\"))"
   ]
  },
  {
   "cell_type": "code",
   "execution_count": 11,
   "metadata": {
    "collapsed": false
   },
   "outputs": [
    {
     "data": {
      "text/html": [
       "<div>\n",
       "<table border=\"1\" class=\"dataframe\">\n",
       "  <thead>\n",
       "    <tr style=\"text-align: right;\">\n",
       "      <th></th>\n",
       "      <th>Unnamed: 0</th>\n",
       "      <th>Complaint ID</th>\n",
       "      <th>Product</th>\n",
       "      <th>Sub-product</th>\n",
       "      <th>Issue</th>\n",
       "      <th>Sub-issue</th>\n",
       "      <th>State</th>\n",
       "      <th>ZIP code</th>\n",
       "      <th>Date received</th>\n",
       "      <th>Date sent to company</th>\n",
       "      <th>Company</th>\n",
       "      <th>Company response</th>\n",
       "      <th>Timely response?</th>\n",
       "      <th>Consumer disputed?</th>\n",
       "    </tr>\n",
       "  </thead>\n",
       "  <tbody>\n",
       "    <tr>\n",
       "      <th>0</th>\n",
       "      <td>0</td>\n",
       "      <td>1291006</td>\n",
       "      <td>Debt collection</td>\n",
       "      <td>NaN</td>\n",
       "      <td>Communication tactics</td>\n",
       "      <td>Frequent or repeated calls</td>\n",
       "      <td>TX</td>\n",
       "      <td>76119.0</td>\n",
       "      <td>2015-03-19</td>\n",
       "      <td>2015-03-19</td>\n",
       "      <td>Premium Asset Services, LLC</td>\n",
       "      <td>In progress</td>\n",
       "      <td>Yes</td>\n",
       "      <td>NaN</td>\n",
       "    </tr>\n",
       "    <tr>\n",
       "      <th>1</th>\n",
       "      <td>1</td>\n",
       "      <td>1290580</td>\n",
       "      <td>Debt collection</td>\n",
       "      <td>Medical</td>\n",
       "      <td>Cont'd attempts collect debt not owed</td>\n",
       "      <td>Debt is not mine</td>\n",
       "      <td>TX</td>\n",
       "      <td>77479.0</td>\n",
       "      <td>2015-03-19</td>\n",
       "      <td>2015-03-19</td>\n",
       "      <td>Accounts Receivable Consultants Inc.</td>\n",
       "      <td>Closed with explanation</td>\n",
       "      <td>Yes</td>\n",
       "      <td>NaN</td>\n",
       "    </tr>\n",
       "    <tr>\n",
       "      <th>2</th>\n",
       "      <td>2</td>\n",
       "      <td>1290564</td>\n",
       "      <td>Mortgage</td>\n",
       "      <td>FHA mortgage</td>\n",
       "      <td>Application, originator, mortgage broker</td>\n",
       "      <td>NaN</td>\n",
       "      <td>MA</td>\n",
       "      <td>2127.0</td>\n",
       "      <td>2015-03-19</td>\n",
       "      <td>2015-03-19</td>\n",
       "      <td>RBS Citizens</td>\n",
       "      <td>Closed with explanation</td>\n",
       "      <td>Yes</td>\n",
       "      <td>Yes</td>\n",
       "    </tr>\n",
       "    <tr>\n",
       "      <th>3</th>\n",
       "      <td>3</td>\n",
       "      <td>1291615</td>\n",
       "      <td>Credit card</td>\n",
       "      <td>NaN</td>\n",
       "      <td>Other</td>\n",
       "      <td>NaN</td>\n",
       "      <td>CA</td>\n",
       "      <td>92592.0</td>\n",
       "      <td>2015-03-19</td>\n",
       "      <td>2015-03-19</td>\n",
       "      <td>Navy FCU</td>\n",
       "      <td>In progress</td>\n",
       "      <td>Yes</td>\n",
       "      <td>NaN</td>\n",
       "    </tr>\n",
       "    <tr>\n",
       "      <th>4</th>\n",
       "      <td>4</td>\n",
       "      <td>1292165</td>\n",
       "      <td>Debt collection</td>\n",
       "      <td>Non-federal student loan</td>\n",
       "      <td>Cont'd attempts collect debt not owed</td>\n",
       "      <td>Debt resulted from identity theft</td>\n",
       "      <td>NaN</td>\n",
       "      <td>43068.0</td>\n",
       "      <td>2015-03-19</td>\n",
       "      <td>2015-03-19</td>\n",
       "      <td>Transworld Systems Inc.</td>\n",
       "      <td>In progress</td>\n",
       "      <td>Yes</td>\n",
       "      <td>NaN</td>\n",
       "    </tr>\n",
       "  </tbody>\n",
       "</table>\n",
       "</div>"
      ],
      "text/plain": [
       "   Unnamed: 0  Complaint ID          Product               Sub-product  \\\n",
       "0           0       1291006  Debt collection                       NaN   \n",
       "1           1       1290580  Debt collection                   Medical   \n",
       "2           2       1290564         Mortgage              FHA mortgage   \n",
       "3           3       1291615      Credit card                       NaN   \n",
       "4           4       1292165  Debt collection  Non-federal student loan   \n",
       "\n",
       "                                      Issue  \\\n",
       "0                     Communication tactics   \n",
       "1     Cont'd attempts collect debt not owed   \n",
       "2  Application, originator, mortgage broker   \n",
       "3                                     Other   \n",
       "4     Cont'd attempts collect debt not owed   \n",
       "\n",
       "                           Sub-issue State  ZIP code Date received  \\\n",
       "0         Frequent or repeated calls    TX   76119.0    2015-03-19   \n",
       "1                   Debt is not mine    TX   77479.0    2015-03-19   \n",
       "2                                NaN    MA    2127.0    2015-03-19   \n",
       "3                                NaN    CA   92592.0    2015-03-19   \n",
       "4  Debt resulted from identity theft   NaN   43068.0    2015-03-19   \n",
       "\n",
       "  Date sent to company                               Company  \\\n",
       "0           2015-03-19           Premium Asset Services, LLC   \n",
       "1           2015-03-19  Accounts Receivable Consultants Inc.   \n",
       "2           2015-03-19                          RBS Citizens   \n",
       "3           2015-03-19                              Navy FCU   \n",
       "4           2015-03-19               Transworld Systems Inc.   \n",
       "\n",
       "          Company response Timely response? Consumer disputed?  \n",
       "0              In progress              Yes                NaN  \n",
       "1  Closed with explanation              Yes                NaN  \n",
       "2  Closed with explanation              Yes                Yes  \n",
       "3              In progress              Yes                NaN  \n",
       "4              In progress              Yes                NaN  "
      ]
     },
     "execution_count": 11,
     "metadata": {},
     "output_type": "execute_result"
    }
   ],
   "source": [
    "df.head()"
   ]
  },
  {
   "cell_type": "code",
   "execution_count": 13,
   "metadata": {
    "collapsed": false
   },
   "outputs": [
    {
     "data": {
      "text/html": [
       "<div>\n",
       "<table border=\"1\" class=\"dataframe\">\n",
       "  <thead>\n",
       "    <tr style=\"text-align: right;\">\n",
       "      <th></th>\n",
       "      <th>Complaint ID</th>\n",
       "      <th>Product</th>\n",
       "      <th>Sub-product</th>\n",
       "      <th>Issue</th>\n",
       "      <th>Sub-issue</th>\n",
       "      <th>State</th>\n",
       "      <th>ZIP code</th>\n",
       "      <th>Date received</th>\n",
       "      <th>Date sent to company</th>\n",
       "      <th>Company</th>\n",
       "      <th>Company response</th>\n",
       "      <th>Timely response?</th>\n",
       "      <th>Consumer disputed?</th>\n",
       "    </tr>\n",
       "  </thead>\n",
       "  <tbody>\n",
       "    <tr>\n",
       "      <th>0</th>\n",
       "      <td>1291006</td>\n",
       "      <td>Debt collection</td>\n",
       "      <td>NaN</td>\n",
       "      <td>Communication tactics</td>\n",
       "      <td>Frequent or repeated calls</td>\n",
       "      <td>TX</td>\n",
       "      <td>76119.0</td>\n",
       "      <td>2015-03-19</td>\n",
       "      <td>2015-03-19</td>\n",
       "      <td>Premium Asset Services, LLC</td>\n",
       "      <td>In progress</td>\n",
       "      <td>Yes</td>\n",
       "      <td>NaN</td>\n",
       "    </tr>\n",
       "    <tr>\n",
       "      <th>1</th>\n",
       "      <td>1290580</td>\n",
       "      <td>Debt collection</td>\n",
       "      <td>Medical</td>\n",
       "      <td>Cont'd attempts collect debt not owed</td>\n",
       "      <td>Debt is not mine</td>\n",
       "      <td>TX</td>\n",
       "      <td>77479.0</td>\n",
       "      <td>2015-03-19</td>\n",
       "      <td>2015-03-19</td>\n",
       "      <td>Accounts Receivable Consultants Inc.</td>\n",
       "      <td>Closed with explanation</td>\n",
       "      <td>Yes</td>\n",
       "      <td>NaN</td>\n",
       "    </tr>\n",
       "    <tr>\n",
       "      <th>2</th>\n",
       "      <td>1290564</td>\n",
       "      <td>Mortgage</td>\n",
       "      <td>FHA mortgage</td>\n",
       "      <td>Application, originator, mortgage broker</td>\n",
       "      <td>NaN</td>\n",
       "      <td>MA</td>\n",
       "      <td>2127.0</td>\n",
       "      <td>2015-03-19</td>\n",
       "      <td>2015-03-19</td>\n",
       "      <td>RBS Citizens</td>\n",
       "      <td>Closed with explanation</td>\n",
       "      <td>Yes</td>\n",
       "      <td>Yes</td>\n",
       "    </tr>\n",
       "    <tr>\n",
       "      <th>3</th>\n",
       "      <td>1291615</td>\n",
       "      <td>Credit card</td>\n",
       "      <td>NaN</td>\n",
       "      <td>Other</td>\n",
       "      <td>NaN</td>\n",
       "      <td>CA</td>\n",
       "      <td>92592.0</td>\n",
       "      <td>2015-03-19</td>\n",
       "      <td>2015-03-19</td>\n",
       "      <td>Navy FCU</td>\n",
       "      <td>In progress</td>\n",
       "      <td>Yes</td>\n",
       "      <td>NaN</td>\n",
       "    </tr>\n",
       "    <tr>\n",
       "      <th>4</th>\n",
       "      <td>1292165</td>\n",
       "      <td>Debt collection</td>\n",
       "      <td>Non-federal student loan</td>\n",
       "      <td>Cont'd attempts collect debt not owed</td>\n",
       "      <td>Debt resulted from identity theft</td>\n",
       "      <td>NaN</td>\n",
       "      <td>43068.0</td>\n",
       "      <td>2015-03-19</td>\n",
       "      <td>2015-03-19</td>\n",
       "      <td>Transworld Systems Inc.</td>\n",
       "      <td>In progress</td>\n",
       "      <td>Yes</td>\n",
       "      <td>NaN</td>\n",
       "    </tr>\n",
       "  </tbody>\n",
       "</table>\n",
       "</div>"
      ],
      "text/plain": [
       "   Complaint ID          Product               Sub-product  \\\n",
       "0       1291006  Debt collection                       NaN   \n",
       "1       1290580  Debt collection                   Medical   \n",
       "2       1290564         Mortgage              FHA mortgage   \n",
       "3       1291615      Credit card                       NaN   \n",
       "4       1292165  Debt collection  Non-federal student loan   \n",
       "\n",
       "                                      Issue  \\\n",
       "0                     Communication tactics   \n",
       "1     Cont'd attempts collect debt not owed   \n",
       "2  Application, originator, mortgage broker   \n",
       "3                                     Other   \n",
       "4     Cont'd attempts collect debt not owed   \n",
       "\n",
       "                           Sub-issue State  ZIP code Date received  \\\n",
       "0         Frequent or repeated calls    TX   76119.0    2015-03-19   \n",
       "1                   Debt is not mine    TX   77479.0    2015-03-19   \n",
       "2                                NaN    MA    2127.0    2015-03-19   \n",
       "3                                NaN    CA   92592.0    2015-03-19   \n",
       "4  Debt resulted from identity theft   NaN   43068.0    2015-03-19   \n",
       "\n",
       "  Date sent to company                               Company  \\\n",
       "0           2015-03-19           Premium Asset Services, LLC   \n",
       "1           2015-03-19  Accounts Receivable Consultants Inc.   \n",
       "2           2015-03-19                          RBS Citizens   \n",
       "3           2015-03-19                              Navy FCU   \n",
       "4           2015-03-19               Transworld Systems Inc.   \n",
       "\n",
       "          Company response Timely response? Consumer disputed?  \n",
       "0              In progress              Yes                NaN  \n",
       "1  Closed with explanation              Yes                NaN  \n",
       "2  Closed with explanation              Yes                Yes  \n",
       "3              In progress              Yes                NaN  \n",
       "4              In progress              Yes                NaN  "
      ]
     },
     "execution_count": 13,
     "metadata": {},
     "output_type": "execute_result"
    }
   ],
   "source": [
    "df = df.drop('Unnamed: 0', axis=1)\n",
    "df.head()"
   ]
  },
  {
   "cell_type": "code",
   "execution_count": 14,
   "metadata": {
    "collapsed": false
   },
   "outputs": [
    {
     "name": "stdout",
     "output_type": "stream",
     "text": [
      "Help on method put_mapping in module elasticsearch.client.indices:\n",
      "\n",
      "put_mapping(*args, **kwargs) method of elasticsearch.client.indices.IndicesClient instance\n",
      "    Register specific mapping definition for a specific type.\n",
      "    `<http://www.elastic.co/guide/en/elasticsearch/reference/current/indices-put-mapping.html>`_\n",
      "    \n",
      "    :arg doc_type: The name of the document type\n",
      "    :arg body: The mapping definition\n",
      "    :arg index: A comma-separated list of index names the mapping should be\n",
      "        added to (supports wildcards); use `_all` or omit to add the mapping\n",
      "        on all indices.\n",
      "    :arg allow_no_indices: Whether to ignore if a wildcard indices\n",
      "        expression resolves into no concrete indices. (This includes `_all`\n",
      "        string or when no indices have been specified)\n",
      "    :arg expand_wildcards: Whether to expand wildcard expression to concrete\n",
      "        indices that are open, closed or both., default 'open', valid\n",
      "        choices are: 'open', 'closed', 'none', 'all'\n",
      "    :arg ignore_unavailable: Whether specified concrete indices should be\n",
      "        ignored when unavailable (missing or closed)\n",
      "    :arg master_timeout: Specify timeout for connection to master\n",
      "    :arg timeout: Explicit operation timeout\n",
      "    :arg update_all_types: Whether to update the mapping for all fields with\n",
      "        the same name across all types or not\n",
      "\n"
     ]
    }
   ],
   "source": [
    "help(client.indices.put_mapping)"
   ]
  },
  {
   "cell_type": "code",
   "execution_count": 17,
   "metadata": {
    "collapsed": false
   },
   "outputs": [
    {
     "data": {
      "text/plain": [
       "{}"
      ]
     },
     "execution_count": 17,
     "metadata": {},
     "output_type": "execute_result"
    }
   ],
   "source": [
    "mappings = dict()\n",
    "mappings"
   ]
  },
  {
   "cell_type": "code",
   "execution_count": 18,
   "metadata": {
    "collapsed": false
   },
   "outputs": [
    {
     "data": {
      "text/plain": [
       "{'Company': {'type': 'string'},\n",
       " 'Company response': {'type': 'string'},\n",
       " 'Complaint ID': {'type': 'string'},\n",
       " 'Consumer disputed?': {'type': 'string'},\n",
       " 'Date received': {'type': 'string'},\n",
       " 'Date sent to company': {'type': 'string'},\n",
       " 'Issue': {'type': 'string'},\n",
       " 'Product': {'type': 'string'},\n",
       " 'State': {'type': 'string'},\n",
       " 'Sub-issue': {'type': 'string'},\n",
       " 'Sub-product': {'type': 'string'},\n",
       " 'Timely response?': {'type': 'string'},\n",
       " 'ZIP code': {'type': 'string'}}"
      ]
     },
     "execution_count": 18,
     "metadata": {},
     "output_type": "execute_result"
    }
   ],
   "source": [
    "for name in df.columns:\n",
    "  mappings[name] = {'type': 'string'}\n",
    "  \n",
    "mappings"
   ]
  },
  {
   "cell_type": "code",
   "execution_count": 19,
   "metadata": {
    "collapsed": false
   },
   "outputs": [
    {
     "ename": "TypeError",
     "evalue": "unhashable type: 'dict'",
     "output_type": "error",
     "traceback": [
      "\u001b[0;31m---------------------------------------------------------------------------\u001b[0m",
      "\u001b[0;31mTypeError\u001b[0m                                 Traceback (most recent call last)",
      "\u001b[0;32m<ipython-input-19-0f6fcab52b4e>\u001b[0m in \u001b[0;36m<module>\u001b[0;34m()\u001b[0m\n\u001b[1;32m     18\u001b[0m        \u001b[0;34m'Sub-product'\u001b[0m\u001b[0;34m:\u001b[0m \u001b[0;34m{\u001b[0m\u001b[0;34m'type'\u001b[0m\u001b[0;34m:\u001b[0m \u001b[0;34m'string'\u001b[0m\u001b[0;34m}\u001b[0m\u001b[0;34m,\u001b[0m\u001b[0;34m\u001b[0m\u001b[0m\n\u001b[1;32m     19\u001b[0m        \u001b[0;34m'Timely response?'\u001b[0m\u001b[0;34m:\u001b[0m \u001b[0;34m{\u001b[0m\u001b[0;34m'type'\u001b[0m\u001b[0;34m:\u001b[0m \u001b[0;34m'string'\u001b[0m\u001b[0;34m}\u001b[0m\u001b[0;34m,\u001b[0m\u001b[0;34m\u001b[0m\u001b[0m\n\u001b[0;32m---> 20\u001b[0;31m        \u001b[0;34m'ZIP code'\u001b[0m\u001b[0;34m:\u001b[0m \u001b[0;34m{\u001b[0m\u001b[0;34m'type'\u001b[0m\u001b[0;34m:\u001b[0m \u001b[0;34m'integer'\u001b[0m\u001b[0;34m}\u001b[0m\u001b[0;34m\u001b[0m\u001b[0m\n\u001b[0m\u001b[1;32m     21\u001b[0m       }\n\u001b[1;32m     22\u001b[0m     }\n",
      "\u001b[0;31mTypeError\u001b[0m: unhashable type: 'dict'"
     ]
    }
   ],
   "source": [
    "# upload the data to elasticsearch\n",
    "client.indices.put_mapping(\n",
    "  index='plotly_datasets',\n",
    "  doc_type='consumer_complaints',    \n",
    "  body={\n",
    "    'properties': {\n",
    "      {\n",
    "       'Company': {'type': 'string'},\n",
    "       'Company response': {'type': 'string'},\n",
    "       'Complaint ID': {'type': 'integer'},\n",
    "       'Consumer disputed?': {'type': 'string'},\n",
    "       'Date received': {'type': 'date', 'format': 'strict_date_optional_time'},\n",
    "       'Date sent to company': {'type': 'date', 'format': 'strict_date_optional_time'},\n",
    "       'Issue': {'type': 'string'},\n",
    "       'Product': {'type': 'string'},\n",
    "       'State': {'type': 'string'},\n",
    "       'Sub-issue': {'type': 'string'},\n",
    "       'Sub-product': {'type': 'string'},\n",
    "       'Timely response?': {'type': 'string'},\n",
    "       'ZIP code': {'type': 'integer'}\n",
    "      }\n",
    "    }\n",
    "  }\n",
    ")"
   ]
  },
  {
   "cell_type": "code",
   "execution_count": 9,
   "metadata": {
    "collapsed": false
   },
   "outputs": [],
   "source": [
    "bulk = []\n",
    "for i in range(len(df)):\n",
    "    bulk.append({'index': {'_index': 'plotly_datasets', '_type': 'ebola_2014', '_id': str(i)}})\n",
    "    bulk.append(df.iloc[i].to_dict())"
   ]
  },
  {
   "cell_type": "code",
   "execution_count": 10,
   "metadata": {
    "collapsed": false
   },
   "outputs": [],
   "source": [
    "response = client.bulk(bulk, request_timeout=1000)"
   ]
  },
  {
   "cell_type": "code",
   "execution_count": 11,
   "metadata": {
    "collapsed": false
   },
   "outputs": [
    {
     "data": {
      "text/plain": [
       "[u'items', u'errors', u'took']"
      ]
     },
     "execution_count": 11,
     "metadata": {},
     "output_type": "execute_result",
     "text": []
    }
   ],
   "source": [
    "response.keys()"
   ]
  },
  {
   "cell_type": "code",
   "execution_count": 12,
   "metadata": {
    "collapsed": false
   },
   "outputs": [
    {
     "data": {
      "text/plain": [
       "False"
      ]
     },
     "execution_count": 12,
     "metadata": {},
     "output_type": "execute_result",
     "text": []
    }
   ],
   "source": [
    "response['errors']"
   ]
  },
  {
   "cell_type": "code",
   "execution_count": null,
   "metadata": {
    "collapsed": false
   },
   "outputs": [],
   "source": []
  }
 ],
 "metadata": {
  "anaconda-cloud": {},
  "kernel_info": {
   "name": "python2"
  },
  "kernelspec": {
   "display_name": "Python 2",
   "language": "python",
   "name": "python2"
  },
  "language_info": {
   "codemirror_mode": {
    "name": "ipython",
    "version": 2
   },
   "file_extension": ".py",
   "mimetype": "text/x-python",
   "name": "python",
   "nbconvert_exporter": "python",
   "pygments_lexer": "ipython2",
   "version": "2.7.12"
  }
 },
 "nbformat": 4,
 "nbformat_minor": 0
}
