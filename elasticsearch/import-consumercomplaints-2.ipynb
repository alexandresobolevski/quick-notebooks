{
 "cells": [
  {
   "cell_type": "code",
   "metadata": {
    "collapsed": false
   },
   "source": [
    "from elasticsearch import Elasticsearch\n",
    "from elasticsearch_dsl import Search, Q"
   ],
   "outputs": [],
   "execution_count": 46
  },
  {
   "cell_type": "code",
   "execution_count": 47,
   "metadata": {
    "collapsed": false
   },
   "source": [
    "client = Elasticsearch('https://67a7441549120daa2dbeef8ac4f5bb2e.us-east-1.aws.found.io:9243')"
   ],
   "outputs": []
  },
  {
   "cell_type": "code",
   "execution_count": 48,
   "metadata": {
    "collapsed": false
   },
   "source": [
    "client.ping()"
   ],
   "outputs": [
    {
     "text": [
      "//anaconda/lib/python2.7/site-packages/urllib3/connectionpool.py:769: InsecureRequestWarning: Unverified HTTPS request is being made. Adding certificate verification is strongly advised. See: https://urllib3.readthedocs.org/en/latest/security.html\n",
      "  InsecureRequestWarning)\n"
     ],
     "name": "stderr",
     "output_type": "stream"
    },
    {
     "execution_count": 48,
     "data": {
      "text/plain": [
       "True"
      ]
     },
     "metadata": {},
     "output_type": "execute_result"
    }
   ]
  },
  {
   "cell_type": "code",
   "execution_count": 4,
   "metadata": {
    "collapsed": false
   },
   "source": [
    "# upload the data to elasticsearch\n",
    "try:\n",
    "  client.indices.delete('plotly_datasets')\n",
    "except:\n",
    "  pass"
   ],
   "outputs": [
    {
     "text": [
      "//anaconda/lib/python2.7/site-packages/urllib3/connectionpool.py:769: InsecureRequestWarning: Unverified HTTPS request is being made. Adding certificate verification is strongly advised. See: https://urllib3.readthedocs.org/en/latest/security.html\n",
      "  InsecureRequestWarning)\n"
     ],
     "name": "stderr",
     "output_type": "stream"
    }
   ]
  },
  {
   "cell_type": "code",
   "execution_count": 5,
   "metadata": {
    "collapsed": false
   },
   "source": [
    "client.indices.create('plotly_datasets')"
   ],
   "outputs": [
    {
     "text": [
      "//anaconda/lib/python2.7/site-packages/urllib3/connectionpool.py:769: InsecureRequestWarning: Unverified HTTPS request is being made. Adding certificate verification is strongly advised. See: https://urllib3.readthedocs.org/en/latest/security.html\n",
      "  InsecureRequestWarning)\n"
     ],
     "name": "stderr",
     "output_type": "stream"
    },
    {
     "execution_count": 5,
     "data": {
      "text/plain": [
       "{u'acknowledged': True}"
      ]
     },
     "metadata": {},
     "output_type": "execute_result"
    }
   ]
  },
  {
   "cell_type": "code",
   "execution_count": 6,
   "metadata": {
    "collapsed": false
   },
   "source": [
    "client.indices.put_mapping(\n",
    "  index='plotly_datasets',\n",
    "  doc_type='consumer_complaints',    \n",
    "  body={\n",
    "    'properties': {\n",
    "       'Company': {'type': 'string'},\n",
    "       'Company response': {'type': 'string'},\n",
    "       'Complaint ID': {'type': 'integer'},\n",
    "       'Consumer disputed?': {'type': 'string'},\n",
    "       'Date received': {'type': 'date', 'format': 'strict_date_optional_time'},\n",
    "       'Date sent to company': {'type': 'date', 'format': 'strict_date_optional_time'},\n",
    "       'Issue': {'type': 'string'},\n",
    "       'Product': {'type': 'string'},\n",
    "       'State': {'type': 'string'},\n",
    "       'Sub-issue': {'type': 'string'},\n",
    "       'Sub-product': {'type': 'string'},\n",
    "       'Timely response?': {'type': 'string'},\n",
    "       'ZIP code': {'type': 'integer'}\n",
    "    }\n",
    "  }\n",
    ")"
   ],
   "outputs": [
    {
     "text": [
      "//anaconda/lib/python2.7/site-packages/urllib3/connectionpool.py:769: InsecureRequestWarning: Unverified HTTPS request is being made. Adding certificate verification is strongly advised. See: https://urllib3.readthedocs.org/en/latest/security.html\n",
      "  InsecureRequestWarning)\n"
     ],
     "name": "stderr",
     "output_type": "stream"
    },
    {
     "execution_count": 6,
     "data": {
      "text/plain": [
       "{u'acknowledged': True}"
      ]
     },
     "metadata": {},
     "output_type": "execute_result"
    }
   ]
  },
  {
   "cell_type": "code",
   "execution_count": 139,
   "metadata": {
    "collapsed": false
   },
   "source": [
    "client.indices.get_mapping()"
   ],
   "outputs": [
    {
     "text": [
      "//anaconda/lib/python2.7/site-packages/urllib3/connectionpool.py:769: InsecureRequestWarning: Unverified HTTPS request is being made. Adding certificate verification is strongly advised. See: https://urllib3.readthedocs.org/en/latest/security.html\n",
      "  InsecureRequestWarning)\n"
     ],
     "name": "stderr",
     "output_type": "stream"
    },
    {
     "execution_count": 139,
     "data": {
      "text/plain": [
       "{u'plotly_datasets': {u'mappings': {u'consumer_complaints': {u'properties': {u'Company': {u'type': u'string'},\n",
       "     u'Company response': {u'type': u'string'},\n",
       "     u'Complaint ID': {u'type': u'integer'},\n",
       "     u'Consumer disputed?': {u'type': u'string'},\n",
       "     u'Date received': {u'format': u'strict_date_optional_time',\n",
       "      u'type': u'date'},\n",
       "     u'Date sent to company': {u'format': u'strict_date_optional_time',\n",
       "      u'type': u'date'},\n",
       "     u'Issue': {u'type': u'string'},\n",
       "     u'Product': {u'type': u'string'},\n",
       "     u'State': {u'type': u'string'},\n",
       "     u'Sub-issue': {u'type': u'string'},\n",
       "     u'Sub-product': {u'type': u'string'},\n",
       "     u'Timely response?': {u'type': u'string'},\n",
       "     u'ZIP code': {u'type': u'integer'}}},\n",
       "   u'ebola_2014': {u'properties': {u'Country': {u'type': u'string'},\n",
       "     u'Lat': {u'type': u'float'},\n",
       "     u'Lon': {u'type': u'float'},\n",
       "     u'Month': {u'type': u'integer'},\n",
       "     u'Value': {u'type': u'float'},\n",
       "     u'Year': {u'type': u'integer'},\n",
       "     u'index': {u'type': u'integer'}}}}},\n",
       " u'sample-data': {u'mappings': {u'test-type': {u'properties': {u'my-boolean-1': {u'type': u'boolean'},\n",
       "     u'my-boolean-2': {u'type': u'boolean'},\n",
       "     u'my-date-1': {u'format': u'strict_date_optional_time||epoch_millis',\n",
       "      u'type': u'date'},\n",
       "     u'my-date-2': {u'format': u'strict_date_optional_time||epoch_millis',\n",
       "      u'type': u'date'},\n",
       "     u'my-geo-point-1': {u'type': u'geo_point'},\n",
       "     u'my-geo-point-2': {u'type': u'geo_point'},\n",
       "     u'my-number-1': {u'type': u'long'},\n",
       "     u'my-number-2': {u'type': u'long'},\n",
       "     u'my-string-1': {u'type': u'string'},\n",
       "     u'my-string-2': {u'type': u'string'}}}}}}"
      ]
     },
     "metadata": {},
     "output_type": "execute_result"
    }
   ]
  },
  {
   "cell_type": "code",
   "execution_count": 8,
   "metadata": {
    "collapsed": false
   },
   "source": [
    "import pandas as pd\n",
    "df = pd.DataFrame(pd.read_csv(\"/Users/Alexandre/Workstation/databases/26k-consumer-complaints.csv\"))"
   ],
   "outputs": [
    {
     "text": [
      "//anaconda/lib/python2.7/site-packages/pandas/computation/__init__.py:19: UserWarning: The installed version of numexpr 2.4.4 is not supported in pandas and will be not be used\n",
      "\n",
      "  UserWarning)\n"
     ],
     "name": "stderr",
     "output_type": "stream"
    }
   ]
  },
  {
   "cell_type": "code",
   "execution_count": 9,
   "metadata": {
    "collapsed": false
   },
   "source": [
    "df.head()"
   ],
   "outputs": [
    {
     "execution_count": 9,
     "data": {
      "text/plain": [
       "   Unnamed: 0  Complaint ID          Product               Sub-product  \\\n",
       "0           0       1291006  Debt collection                       NaN   \n",
       "1           1       1290580  Debt collection                   Medical   \n",
       "2           2       1290564         Mortgage              FHA mortgage   \n",
       "3           3       1291615      Credit card                       NaN   \n",
       "4           4       1292165  Debt collection  Non-federal student loan   \n",
       "\n",
       "                                      Issue  \\\n",
       "0                     Communication tactics   \n",
       "1     Cont'd attempts collect debt not owed   \n",
       "2  Application, originator, mortgage broker   \n",
       "3                                     Other   \n",
       "4     Cont'd attempts collect debt not owed   \n",
       "\n",
       "                           Sub-issue State  ZIP code Date received  \\\n",
       "0         Frequent or repeated calls    TX   76119.0    2015-03-19   \n",
       "1                   Debt is not mine    TX   77479.0    2015-03-19   \n",
       "2                                NaN    MA    2127.0    2015-03-19   \n",
       "3                                NaN    CA   92592.0    2015-03-19   \n",
       "4  Debt resulted from identity theft   NaN   43068.0    2015-03-19   \n",
       "\n",
       "  Date sent to company                               Company  \\\n",
       "0           2015-03-19           Premium Asset Services, LLC   \n",
       "1           2015-03-19  Accounts Receivable Consultants Inc.   \n",
       "2           2015-03-19                          RBS Citizens   \n",
       "3           2015-03-19                              Navy FCU   \n",
       "4           2015-03-19               Transworld Systems Inc.   \n",
       "\n",
       "          Company response Timely response? Consumer disputed?  \n",
       "0              In progress              Yes                NaN  \n",
       "1  Closed with explanation              Yes                NaN  \n",
       "2  Closed with explanation              Yes                Yes  \n",
       "3              In progress              Yes                NaN  \n",
       "4              In progress              Yes                NaN  "
      ],
      "text/html": [
       "<div>\n",
       "<table border=\"1\" class=\"dataframe\">\n",
       "  <thead>\n",
       "    <tr style=\"text-align: right;\">\n",
       "      <th></th>\n",
       "      <th>Unnamed: 0</th>\n",
       "      <th>Complaint ID</th>\n",
       "      <th>Product</th>\n",
       "      <th>Sub-product</th>\n",
       "      <th>Issue</th>\n",
       "      <th>Sub-issue</th>\n",
       "      <th>State</th>\n",
       "      <th>ZIP code</th>\n",
       "      <th>Date received</th>\n",
       "      <th>Date sent to company</th>\n",
       "      <th>Company</th>\n",
       "      <th>Company response</th>\n",
       "      <th>Timely response?</th>\n",
       "      <th>Consumer disputed?</th>\n",
       "    </tr>\n",
       "  </thead>\n",
       "  <tbody>\n",
       "    <tr>\n",
       "      <th>0</th>\n",
       "      <td>0</td>\n",
       "      <td>1291006</td>\n",
       "      <td>Debt collection</td>\n",
       "      <td>NaN</td>\n",
       "      <td>Communication tactics</td>\n",
       "      <td>Frequent or repeated calls</td>\n",
       "      <td>TX</td>\n",
       "      <td>76119.0</td>\n",
       "      <td>2015-03-19</td>\n",
       "      <td>2015-03-19</td>\n",
       "      <td>Premium Asset Services, LLC</td>\n",
       "      <td>In progress</td>\n",
       "      <td>Yes</td>\n",
       "      <td>NaN</td>\n",
       "    </tr>\n",
       "    <tr>\n",
       "      <th>1</th>\n",
       "      <td>1</td>\n",
       "      <td>1290580</td>\n",
       "      <td>Debt collection</td>\n",
       "      <td>Medical</td>\n",
       "      <td>Cont'd attempts collect debt not owed</td>\n",
       "      <td>Debt is not mine</td>\n",
       "      <td>TX</td>\n",
       "      <td>77479.0</td>\n",
       "      <td>2015-03-19</td>\n",
       "      <td>2015-03-19</td>\n",
       "      <td>Accounts Receivable Consultants Inc.</td>\n",
       "      <td>Closed with explanation</td>\n",
       "      <td>Yes</td>\n",
       "      <td>NaN</td>\n",
       "    </tr>\n",
       "    <tr>\n",
       "      <th>2</th>\n",
       "      <td>2</td>\n",
       "      <td>1290564</td>\n",
       "      <td>Mortgage</td>\n",
       "      <td>FHA mortgage</td>\n",
       "      <td>Application, originator, mortgage broker</td>\n",
       "      <td>NaN</td>\n",
       "      <td>MA</td>\n",
       "      <td>2127.0</td>\n",
       "      <td>2015-03-19</td>\n",
       "      <td>2015-03-19</td>\n",
       "      <td>RBS Citizens</td>\n",
       "      <td>Closed with explanation</td>\n",
       "      <td>Yes</td>\n",
       "      <td>Yes</td>\n",
       "    </tr>\n",
       "    <tr>\n",
       "      <th>3</th>\n",
       "      <td>3</td>\n",
       "      <td>1291615</td>\n",
       "      <td>Credit card</td>\n",
       "      <td>NaN</td>\n",
       "      <td>Other</td>\n",
       "      <td>NaN</td>\n",
       "      <td>CA</td>\n",
       "      <td>92592.0</td>\n",
       "      <td>2015-03-19</td>\n",
       "      <td>2015-03-19</td>\n",
       "      <td>Navy FCU</td>\n",
       "      <td>In progress</td>\n",
       "      <td>Yes</td>\n",
       "      <td>NaN</td>\n",
       "    </tr>\n",
       "    <tr>\n",
       "      <th>4</th>\n",
       "      <td>4</td>\n",
       "      <td>1292165</td>\n",
       "      <td>Debt collection</td>\n",
       "      <td>Non-federal student loan</td>\n",
       "      <td>Cont'd attempts collect debt not owed</td>\n",
       "      <td>Debt resulted from identity theft</td>\n",
       "      <td>NaN</td>\n",
       "      <td>43068.0</td>\n",
       "      <td>2015-03-19</td>\n",
       "      <td>2015-03-19</td>\n",
       "      <td>Transworld Systems Inc.</td>\n",
       "      <td>In progress</td>\n",
       "      <td>Yes</td>\n",
       "      <td>NaN</td>\n",
       "    </tr>\n",
       "  </tbody>\n",
       "</table>\n",
       "</div>"
      ]
     },
     "metadata": {},
     "output_type": "execute_result"
    }
   ]
  },
  {
   "cell_type": "code",
   "execution_count": 10,
   "metadata": {
    "collapsed": false
   },
   "source": [
    "df = df.drop('Unnamed: 0', axis=1)\n",
    "columnsNaNtoNone = ['Company', 'Product', 'Sub-product', 'Issue', 'Sub-issue', 'State', 'Company', 'Company response', 'Timely response?', 'Consumer disputed?']  \n",
    "columnsNaNtoZero = ['Complaint ID', 'ZIP code']\n",
    "columnsNaNtoDate = ['Date received', 'Date sent to company']"
   ],
   "outputs": []
  },
  {
   "cell_type": "code",
   "execution_count": 11,
   "metadata": {
    "collapsed": false
   },
   "source": [
    "df1 = df[columnsNaNtoNone].fillna(value='None')\n",
    "df1.head()"
   ],
   "outputs": [
    {
     "execution_count": 11,
     "data": {
      "text/plain": [
       "                                Company          Product  \\\n",
       "0           Premium Asset Services, LLC  Debt collection   \n",
       "1  Accounts Receivable Consultants Inc.  Debt collection   \n",
       "2                          RBS Citizens         Mortgage   \n",
       "3                              Navy FCU      Credit card   \n",
       "4               Transworld Systems Inc.  Debt collection   \n",
       "\n",
       "                Sub-product                                     Issue  \\\n",
       "0                      None                     Communication tactics   \n",
       "1                   Medical     Cont'd attempts collect debt not owed   \n",
       "2              FHA mortgage  Application, originator, mortgage broker   \n",
       "3                      None                                     Other   \n",
       "4  Non-federal student loan     Cont'd attempts collect debt not owed   \n",
       "\n",
       "                           Sub-issue State  \\\n",
       "0         Frequent or repeated calls    TX   \n",
       "1                   Debt is not mine    TX   \n",
       "2                               None    MA   \n",
       "3                               None    CA   \n",
       "4  Debt resulted from identity theft  None   \n",
       "\n",
       "                                Company         Company response  \\\n",
       "0           Premium Asset Services, LLC              In progress   \n",
       "1  Accounts Receivable Consultants Inc.  Closed with explanation   \n",
       "2                          RBS Citizens  Closed with explanation   \n",
       "3                              Navy FCU              In progress   \n",
       "4               Transworld Systems Inc.              In progress   \n",
       "\n",
       "  Timely response? Consumer disputed?  \n",
       "0              Yes               None  \n",
       "1              Yes               None  \n",
       "2              Yes                Yes  \n",
       "3              Yes               None  \n",
       "4              Yes               None  "
      ],
      "text/html": [
       "<div>\n",
       "<table border=\"1\" class=\"dataframe\">\n",
       "  <thead>\n",
       "    <tr style=\"text-align: right;\">\n",
       "      <th></th>\n",
       "      <th>Company</th>\n",
       "      <th>Product</th>\n",
       "      <th>Sub-product</th>\n",
       "      <th>Issue</th>\n",
       "      <th>Sub-issue</th>\n",
       "      <th>State</th>\n",
       "      <th>Company</th>\n",
       "      <th>Company response</th>\n",
       "      <th>Timely response?</th>\n",
       "      <th>Consumer disputed?</th>\n",
       "    </tr>\n",
       "  </thead>\n",
       "  <tbody>\n",
       "    <tr>\n",
       "      <th>0</th>\n",
       "      <td>Premium Asset Services, LLC</td>\n",
       "      <td>Debt collection</td>\n",
       "      <td>None</td>\n",
       "      <td>Communication tactics</td>\n",
       "      <td>Frequent or repeated calls</td>\n",
       "      <td>TX</td>\n",
       "      <td>Premium Asset Services, LLC</td>\n",
       "      <td>In progress</td>\n",
       "      <td>Yes</td>\n",
       "      <td>None</td>\n",
       "    </tr>\n",
       "    <tr>\n",
       "      <th>1</th>\n",
       "      <td>Accounts Receivable Consultants Inc.</td>\n",
       "      <td>Debt collection</td>\n",
       "      <td>Medical</td>\n",
       "      <td>Cont'd attempts collect debt not owed</td>\n",
       "      <td>Debt is not mine</td>\n",
       "      <td>TX</td>\n",
       "      <td>Accounts Receivable Consultants Inc.</td>\n",
       "      <td>Closed with explanation</td>\n",
       "      <td>Yes</td>\n",
       "      <td>None</td>\n",
       "    </tr>\n",
       "    <tr>\n",
       "      <th>2</th>\n",
       "      <td>RBS Citizens</td>\n",
       "      <td>Mortgage</td>\n",
       "      <td>FHA mortgage</td>\n",
       "      <td>Application, originator, mortgage broker</td>\n",
       "      <td>None</td>\n",
       "      <td>MA</td>\n",
       "      <td>RBS Citizens</td>\n",
       "      <td>Closed with explanation</td>\n",
       "      <td>Yes</td>\n",
       "      <td>Yes</td>\n",
       "    </tr>\n",
       "    <tr>\n",
       "      <th>3</th>\n",
       "      <td>Navy FCU</td>\n",
       "      <td>Credit card</td>\n",
       "      <td>None</td>\n",
       "      <td>Other</td>\n",
       "      <td>None</td>\n",
       "      <td>CA</td>\n",
       "      <td>Navy FCU</td>\n",
       "      <td>In progress</td>\n",
       "      <td>Yes</td>\n",
       "      <td>None</td>\n",
       "    </tr>\n",
       "    <tr>\n",
       "      <th>4</th>\n",
       "      <td>Transworld Systems Inc.</td>\n",
       "      <td>Debt collection</td>\n",
       "      <td>Non-federal student loan</td>\n",
       "      <td>Cont'd attempts collect debt not owed</td>\n",
       "      <td>Debt resulted from identity theft</td>\n",
       "      <td>None</td>\n",
       "      <td>Transworld Systems Inc.</td>\n",
       "      <td>In progress</td>\n",
       "      <td>Yes</td>\n",
       "      <td>None</td>\n",
       "    </tr>\n",
       "  </tbody>\n",
       "</table>\n",
       "</div>"
      ]
     },
     "metadata": {},
     "output_type": "execute_result"
    }
   ]
  },
  {
   "cell_type": "code",
   "execution_count": 12,
   "metadata": {
    "collapsed": false
   },
   "source": [
    "df2 = df[columnsNaNtoZero].fillna(value=0)\n",
    "df2.head()"
   ],
   "outputs": [
    {
     "execution_count": 12,
     "data": {
      "text/plain": [
       "   Complaint ID  ZIP code\n",
       "0       1291006   76119.0\n",
       "1       1290580   77479.0\n",
       "2       1290564    2127.0\n",
       "3       1291615   92592.0\n",
       "4       1292165   43068.0"
      ],
      "text/html": [
       "<div>\n",
       "<table border=\"1\" class=\"dataframe\">\n",
       "  <thead>\n",
       "    <tr style=\"text-align: right;\">\n",
       "      <th></th>\n",
       "      <th>Complaint ID</th>\n",
       "      <th>ZIP code</th>\n",
       "    </tr>\n",
       "  </thead>\n",
       "  <tbody>\n",
       "    <tr>\n",
       "      <th>0</th>\n",
       "      <td>1291006</td>\n",
       "      <td>76119.0</td>\n",
       "    </tr>\n",
       "    <tr>\n",
       "      <th>1</th>\n",
       "      <td>1290580</td>\n",
       "      <td>77479.0</td>\n",
       "    </tr>\n",
       "    <tr>\n",
       "      <th>2</th>\n",
       "      <td>1290564</td>\n",
       "      <td>2127.0</td>\n",
       "    </tr>\n",
       "    <tr>\n",
       "      <th>3</th>\n",
       "      <td>1291615</td>\n",
       "      <td>92592.0</td>\n",
       "    </tr>\n",
       "    <tr>\n",
       "      <th>4</th>\n",
       "      <td>1292165</td>\n",
       "      <td>43068.0</td>\n",
       "    </tr>\n",
       "  </tbody>\n",
       "</table>\n",
       "</div>"
      ]
     },
     "metadata": {},
     "output_type": "execute_result"
    }
   ]
  },
  {
   "cell_type": "code",
   "execution_count": 13,
   "metadata": {
    "collapsed": false
   },
   "source": [
    "df3 = df[columnsNaNtoDate].fillna(value='2000-01-01')\n",
    "df3.head()"
   ],
   "outputs": [
    {
     "execution_count": 13,
     "data": {
      "text/plain": [
       "  Date received Date sent to company\n",
       "0    2015-03-19           2015-03-19\n",
       "1    2015-03-19           2015-03-19\n",
       "2    2015-03-19           2015-03-19\n",
       "3    2015-03-19           2015-03-19\n",
       "4    2015-03-19           2015-03-19"
      ],
      "text/html": [
       "<div>\n",
       "<table border=\"1\" class=\"dataframe\">\n",
       "  <thead>\n",
       "    <tr style=\"text-align: right;\">\n",
       "      <th></th>\n",
       "      <th>Date received</th>\n",
       "      <th>Date sent to company</th>\n",
       "    </tr>\n",
       "  </thead>\n",
       "  <tbody>\n",
       "    <tr>\n",
       "      <th>0</th>\n",
       "      <td>2015-03-19</td>\n",
       "      <td>2015-03-19</td>\n",
       "    </tr>\n",
       "    <tr>\n",
       "      <th>1</th>\n",
       "      <td>2015-03-19</td>\n",
       "      <td>2015-03-19</td>\n",
       "    </tr>\n",
       "    <tr>\n",
       "      <th>2</th>\n",
       "      <td>2015-03-19</td>\n",
       "      <td>2015-03-19</td>\n",
       "    </tr>\n",
       "    <tr>\n",
       "      <th>3</th>\n",
       "      <td>2015-03-19</td>\n",
       "      <td>2015-03-19</td>\n",
       "    </tr>\n",
       "    <tr>\n",
       "      <th>4</th>\n",
       "      <td>2015-03-19</td>\n",
       "      <td>2015-03-19</td>\n",
       "    </tr>\n",
       "  </tbody>\n",
       "</table>\n",
       "</div>"
      ]
     },
     "metadata": {},
     "output_type": "execute_result"
    }
   ]
  },
  {
   "cell_type": "code",
   "execution_count": 14,
   "metadata": {
    "collapsed": false
   },
   "source": [
    "newdf = pd.concat([df1, df2, df3], axis=1, join='inner')\n",
    "newdf.head()"
   ],
   "outputs": [
    {
     "execution_count": 14,
     "data": {
      "text/plain": [
       "                                Company          Product  \\\n",
       "0           Premium Asset Services, LLC  Debt collection   \n",
       "1  Accounts Receivable Consultants Inc.  Debt collection   \n",
       "2                          RBS Citizens         Mortgage   \n",
       "3                              Navy FCU      Credit card   \n",
       "4               Transworld Systems Inc.  Debt collection   \n",
       "\n",
       "                Sub-product                                     Issue  \\\n",
       "0                      None                     Communication tactics   \n",
       "1                   Medical     Cont'd attempts collect debt not owed   \n",
       "2              FHA mortgage  Application, originator, mortgage broker   \n",
       "3                      None                                     Other   \n",
       "4  Non-federal student loan     Cont'd attempts collect debt not owed   \n",
       "\n",
       "                           Sub-issue State  \\\n",
       "0         Frequent or repeated calls    TX   \n",
       "1                   Debt is not mine    TX   \n",
       "2                               None    MA   \n",
       "3                               None    CA   \n",
       "4  Debt resulted from identity theft  None   \n",
       "\n",
       "                                Company         Company response  \\\n",
       "0           Premium Asset Services, LLC              In progress   \n",
       "1  Accounts Receivable Consultants Inc.  Closed with explanation   \n",
       "2                          RBS Citizens  Closed with explanation   \n",
       "3                              Navy FCU              In progress   \n",
       "4               Transworld Systems Inc.              In progress   \n",
       "\n",
       "  Timely response? Consumer disputed?  Complaint ID  ZIP code Date received  \\\n",
       "0              Yes               None       1291006   76119.0    2015-03-19   \n",
       "1              Yes               None       1290580   77479.0    2015-03-19   \n",
       "2              Yes                Yes       1290564    2127.0    2015-03-19   \n",
       "3              Yes               None       1291615   92592.0    2015-03-19   \n",
       "4              Yes               None       1292165   43068.0    2015-03-19   \n",
       "\n",
       "  Date sent to company  \n",
       "0           2015-03-19  \n",
       "1           2015-03-19  \n",
       "2           2015-03-19  \n",
       "3           2015-03-19  \n",
       "4           2015-03-19  "
      ],
      "text/html": [
       "<div>\n",
       "<table border=\"1\" class=\"dataframe\">\n",
       "  <thead>\n",
       "    <tr style=\"text-align: right;\">\n",
       "      <th></th>\n",
       "      <th>Company</th>\n",
       "      <th>Product</th>\n",
       "      <th>Sub-product</th>\n",
       "      <th>Issue</th>\n",
       "      <th>Sub-issue</th>\n",
       "      <th>State</th>\n",
       "      <th>Company</th>\n",
       "      <th>Company response</th>\n",
       "      <th>Timely response?</th>\n",
       "      <th>Consumer disputed?</th>\n",
       "      <th>Complaint ID</th>\n",
       "      <th>ZIP code</th>\n",
       "      <th>Date received</th>\n",
       "      <th>Date sent to company</th>\n",
       "    </tr>\n",
       "  </thead>\n",
       "  <tbody>\n",
       "    <tr>\n",
       "      <th>0</th>\n",
       "      <td>Premium Asset Services, LLC</td>\n",
       "      <td>Debt collection</td>\n",
       "      <td>None</td>\n",
       "      <td>Communication tactics</td>\n",
       "      <td>Frequent or repeated calls</td>\n",
       "      <td>TX</td>\n",
       "      <td>Premium Asset Services, LLC</td>\n",
       "      <td>In progress</td>\n",
       "      <td>Yes</td>\n",
       "      <td>None</td>\n",
       "      <td>1291006</td>\n",
       "      <td>76119.0</td>\n",
       "      <td>2015-03-19</td>\n",
       "      <td>2015-03-19</td>\n",
       "    </tr>\n",
       "    <tr>\n",
       "      <th>1</th>\n",
       "      <td>Accounts Receivable Consultants Inc.</td>\n",
       "      <td>Debt collection</td>\n",
       "      <td>Medical</td>\n",
       "      <td>Cont'd attempts collect debt not owed</td>\n",
       "      <td>Debt is not mine</td>\n",
       "      <td>TX</td>\n",
       "      <td>Accounts Receivable Consultants Inc.</td>\n",
       "      <td>Closed with explanation</td>\n",
       "      <td>Yes</td>\n",
       "      <td>None</td>\n",
       "      <td>1290580</td>\n",
       "      <td>77479.0</td>\n",
       "      <td>2015-03-19</td>\n",
       "      <td>2015-03-19</td>\n",
       "    </tr>\n",
       "    <tr>\n",
       "      <th>2</th>\n",
       "      <td>RBS Citizens</td>\n",
       "      <td>Mortgage</td>\n",
       "      <td>FHA mortgage</td>\n",
       "      <td>Application, originator, mortgage broker</td>\n",
       "      <td>None</td>\n",
       "      <td>MA</td>\n",
       "      <td>RBS Citizens</td>\n",
       "      <td>Closed with explanation</td>\n",
       "      <td>Yes</td>\n",
       "      <td>Yes</td>\n",
       "      <td>1290564</td>\n",
       "      <td>2127.0</td>\n",
       "      <td>2015-03-19</td>\n",
       "      <td>2015-03-19</td>\n",
       "    </tr>\n",
       "    <tr>\n",
       "      <th>3</th>\n",
       "      <td>Navy FCU</td>\n",
       "      <td>Credit card</td>\n",
       "      <td>None</td>\n",
       "      <td>Other</td>\n",
       "      <td>None</td>\n",
       "      <td>CA</td>\n",
       "      <td>Navy FCU</td>\n",
       "      <td>In progress</td>\n",
       "      <td>Yes</td>\n",
       "      <td>None</td>\n",
       "      <td>1291615</td>\n",
       "      <td>92592.0</td>\n",
       "      <td>2015-03-19</td>\n",
       "      <td>2015-03-19</td>\n",
       "    </tr>\n",
       "    <tr>\n",
       "      <th>4</th>\n",
       "      <td>Transworld Systems Inc.</td>\n",
       "      <td>Debt collection</td>\n",
       "      <td>Non-federal student loan</td>\n",
       "      <td>Cont'd attempts collect debt not owed</td>\n",
       "      <td>Debt resulted from identity theft</td>\n",
       "      <td>None</td>\n",
       "      <td>Transworld Systems Inc.</td>\n",
       "      <td>In progress</td>\n",
       "      <td>Yes</td>\n",
       "      <td>None</td>\n",
       "      <td>1292165</td>\n",
       "      <td>43068.0</td>\n",
       "      <td>2015-03-19</td>\n",
       "      <td>2015-03-19</td>\n",
       "    </tr>\n",
       "  </tbody>\n",
       "</table>\n",
       "</div>"
      ]
     },
     "metadata": {},
     "output_type": "execute_result"
    }
   ]
  },
  {
   "cell_type": "code",
   "execution_count": 15,
   "metadata": {
    "collapsed": false
   },
   "source": [
    "newdf.tail()"
   ],
   "outputs": [
    {
     "execution_count": 15,
     "data": {
      "text/plain": [
       "                              Company          Product  \\\n",
       "28151  Enhanced Recovery Company, LLC  Debt collection   \n",
       "28152                       DriveTime    Consumer loan   \n",
       "28153                         Regions         Mortgage   \n",
       "28154                   Moneytree Inc      Payday loan   \n",
       "28155                          PayPal  Money transfers   \n",
       "\n",
       "                        Sub-product                                     Issue  \\\n",
       "28151                          None     Cont'd attempts collect debt not owed   \n",
       "28152                  Vehicle loan              Taking out the loan or lease   \n",
       "28153   Conventional fixed mortgage  Loan servicing, payments, escrow account   \n",
       "28154                          None        Can't stop charges to bank account   \n",
       "28155  Domestic (US) money transfer                  Other transaction issues   \n",
       "\n",
       "              Sub-issue State                         Company  \\\n",
       "28151  Debt is not mine    TX  Enhanced Recovery Company, LLC   \n",
       "28152              None    GA                       DriveTime   \n",
       "28153              None    MN                         Regions   \n",
       "28154              None    CA                   Moneytree Inc   \n",
       "28155              None    OH                          PayPal   \n",
       "\n",
       "                      Company response Timely response? Consumer disputed?  \\\n",
       "28151  Closed with non-monetary relief              Yes                 No   \n",
       "28152          Closed with explanation              Yes               None   \n",
       "28153  Closed with non-monetary relief              Yes                 No   \n",
       "28154          Closed with explanation              Yes               None   \n",
       "28155          Closed with explanation              Yes                Yes   \n",
       "\n",
       "       Complaint ID  ZIP code Date received Date sent to company  \n",
       "28151       1178184   75201.0    2015-01-01           2015-01-02  \n",
       "28152       1178183   30043.0    2015-01-01           2015-01-07  \n",
       "28153       1178182   55105.0    2015-01-01           2015-01-02  \n",
       "28154       1178181   92509.0    2015-01-01           2015-01-07  \n",
       "28155       1178180   45068.0    2015-01-01           2015-01-02  "
      ],
      "text/html": [
       "<div>\n",
       "<table border=\"1\" class=\"dataframe\">\n",
       "  <thead>\n",
       "    <tr style=\"text-align: right;\">\n",
       "      <th></th>\n",
       "      <th>Company</th>\n",
       "      <th>Product</th>\n",
       "      <th>Sub-product</th>\n",
       "      <th>Issue</th>\n",
       "      <th>Sub-issue</th>\n",
       "      <th>State</th>\n",
       "      <th>Company</th>\n",
       "      <th>Company response</th>\n",
       "      <th>Timely response?</th>\n",
       "      <th>Consumer disputed?</th>\n",
       "      <th>Complaint ID</th>\n",
       "      <th>ZIP code</th>\n",
       "      <th>Date received</th>\n",
       "      <th>Date sent to company</th>\n",
       "    </tr>\n",
       "  </thead>\n",
       "  <tbody>\n",
       "    <tr>\n",
       "      <th>28151</th>\n",
       "      <td>Enhanced Recovery Company, LLC</td>\n",
       "      <td>Debt collection</td>\n",
       "      <td>None</td>\n",
       "      <td>Cont'd attempts collect debt not owed</td>\n",
       "      <td>Debt is not mine</td>\n",
       "      <td>TX</td>\n",
       "      <td>Enhanced Recovery Company, LLC</td>\n",
       "      <td>Closed with non-monetary relief</td>\n",
       "      <td>Yes</td>\n",
       "      <td>No</td>\n",
       "      <td>1178184</td>\n",
       "      <td>75201.0</td>\n",
       "      <td>2015-01-01</td>\n",
       "      <td>2015-01-02</td>\n",
       "    </tr>\n",
       "    <tr>\n",
       "      <th>28152</th>\n",
       "      <td>DriveTime</td>\n",
       "      <td>Consumer loan</td>\n",
       "      <td>Vehicle loan</td>\n",
       "      <td>Taking out the loan or lease</td>\n",
       "      <td>None</td>\n",
       "      <td>GA</td>\n",
       "      <td>DriveTime</td>\n",
       "      <td>Closed with explanation</td>\n",
       "      <td>Yes</td>\n",
       "      <td>None</td>\n",
       "      <td>1178183</td>\n",
       "      <td>30043.0</td>\n",
       "      <td>2015-01-01</td>\n",
       "      <td>2015-01-07</td>\n",
       "    </tr>\n",
       "    <tr>\n",
       "      <th>28153</th>\n",
       "      <td>Regions</td>\n",
       "      <td>Mortgage</td>\n",
       "      <td>Conventional fixed mortgage</td>\n",
       "      <td>Loan servicing, payments, escrow account</td>\n",
       "      <td>None</td>\n",
       "      <td>MN</td>\n",
       "      <td>Regions</td>\n",
       "      <td>Closed with non-monetary relief</td>\n",
       "      <td>Yes</td>\n",
       "      <td>No</td>\n",
       "      <td>1178182</td>\n",
       "      <td>55105.0</td>\n",
       "      <td>2015-01-01</td>\n",
       "      <td>2015-01-02</td>\n",
       "    </tr>\n",
       "    <tr>\n",
       "      <th>28154</th>\n",
       "      <td>Moneytree Inc</td>\n",
       "      <td>Payday loan</td>\n",
       "      <td>None</td>\n",
       "      <td>Can't stop charges to bank account</td>\n",
       "      <td>None</td>\n",
       "      <td>CA</td>\n",
       "      <td>Moneytree Inc</td>\n",
       "      <td>Closed with explanation</td>\n",
       "      <td>Yes</td>\n",
       "      <td>None</td>\n",
       "      <td>1178181</td>\n",
       "      <td>92509.0</td>\n",
       "      <td>2015-01-01</td>\n",
       "      <td>2015-01-07</td>\n",
       "    </tr>\n",
       "    <tr>\n",
       "      <th>28155</th>\n",
       "      <td>PayPal</td>\n",
       "      <td>Money transfers</td>\n",
       "      <td>Domestic (US) money transfer</td>\n",
       "      <td>Other transaction issues</td>\n",
       "      <td>None</td>\n",
       "      <td>OH</td>\n",
       "      <td>PayPal</td>\n",
       "      <td>Closed with explanation</td>\n",
       "      <td>Yes</td>\n",
       "      <td>Yes</td>\n",
       "      <td>1178180</td>\n",
       "      <td>45068.0</td>\n",
       "      <td>2015-01-01</td>\n",
       "      <td>2015-01-02</td>\n",
       "    </tr>\n",
       "  </tbody>\n",
       "</table>\n",
       "</div>"
      ]
     },
     "metadata": {},
     "output_type": "execute_result"
    }
   ]
  },
  {
   "cell_type": "code",
   "execution_count": 16,
   "metadata": {
    "collapsed": false
   },
   "source": [
    "newdf.isnull().any()"
   ],
   "outputs": [
    {
     "execution_count": 16,
     "data": {
      "text/plain": [
       "Company                 False\n",
       "Product                 False\n",
       "Sub-product             False\n",
       "Issue                   False\n",
       "Sub-issue               False\n",
       "State                   False\n",
       "Company                 False\n",
       "Company response        False\n",
       "Timely response?        False\n",
       "Consumer disputed?      False\n",
       "Complaint ID            False\n",
       "ZIP code                False\n",
       "Date received           False\n",
       "Date sent to company    False\n",
       "dtype: bool"
      ]
     },
     "metadata": {},
     "output_type": "execute_result"
    }
   ]
  },
  {
   "cell_type": "code",
   "execution_count": 17,
   "metadata": {
    "collapsed": false
   },
   "source": [
    "newdf.isnull().any().any() "
   ],
   "outputs": [
    {
     "execution_count": 17,
     "data": {
      "text/plain": [
       "False"
      ]
     },
     "metadata": {},
     "output_type": "execute_result"
    }
   ]
  },
  {
   "cell_type": "code",
   "execution_count": 18,
   "metadata": {
    "collapsed": false
   },
   "source": [
    "help(client.indices.get_mapping)"
   ],
   "outputs": [
    {
     "text": [
      "Help on method get_mapping in module elasticsearch.client.indices:\n",
      "\n",
      "get_mapping(*args, **kwargs) method of elasticsearch.client.indices.IndicesClient instance\n",
      "    Retrieve mapping definition of index or index/type.\n",
      "    `<http://www.elastic.co/guide/en/elasticsearch/reference/current/indices-get-mapping.html>`_\n",
      "    \n",
      "    :arg index: A comma-separated list of index names\n",
      "    :arg doc_type: A comma-separated list of document types\n",
      "    :arg allow_no_indices: Whether to ignore if a wildcard indices\n",
      "        expression resolves into no concrete indices. (This includes `_all`\n",
      "        string or when no indices have been specified)\n",
      "    :arg expand_wildcards: Whether to expand wildcard expression to concrete\n",
      "        indices that are open, closed or both., default 'open', valid\n",
      "        choices are: 'open', 'closed', 'none', 'all'\n",
      "    :arg ignore_unavailable: Whether specified concrete indices should be\n",
      "        ignored when unavailable (missing or closed)\n",
      "    :arg local: Return local information, do not retrieve the state from\n",
      "        master node (default: false)\n",
      "\n"
     ],
     "name": "stdout",
     "output_type": "stream"
    }
   ]
  },
  {
   "cell_type": "code",
   "execution_count": 19,
   "metadata": {
    "collapsed": false
   },
   "source": [
    "mappings = dict()\n",
    "mappings"
   ],
   "outputs": [
    {
     "execution_count": 19,
     "data": {
      "text/plain": [
       "{}"
      ]
     },
     "metadata": {},
     "output_type": "execute_result"
    }
   ]
  },
  {
   "cell_type": "code",
   "execution_count": 20,
   "metadata": {
    "collapsed": false
   },
   "source": [
    "for name in df.columns:\n",
    "  mappings[name] = {'type': 'string'}\n",
    "  \n",
    "mappings"
   ],
   "outputs": [
    {
     "execution_count": 20,
     "data": {
      "text/plain": [
       "{'Company': {'type': 'string'},\n",
       " 'Company response': {'type': 'string'},\n",
       " 'Complaint ID': {'type': 'string'},\n",
       " 'Consumer disputed?': {'type': 'string'},\n",
       " 'Date received': {'type': 'string'},\n",
       " 'Date sent to company': {'type': 'string'},\n",
       " 'Issue': {'type': 'string'},\n",
       " 'Product': {'type': 'string'},\n",
       " 'State': {'type': 'string'},\n",
       " 'Sub-issue': {'type': 'string'},\n",
       " 'Sub-product': {'type': 'string'},\n",
       " 'Timely response?': {'type': 'string'},\n",
       " 'ZIP code': {'type': 'string'}}"
      ]
     },
     "metadata": {},
     "output_type": "execute_result"
    }
   ]
  },
  {
   "cell_type": "code",
   "execution_count": 21,
   "metadata": {
    "collapsed": false
   },
   "source": [
    "# upload the data to elasticsearch\n",
    "client.indices.put_mapping(\n",
    "  index='plotly_datasets',\n",
    "  doc_type='consumer_complaints',    \n",
    "  body={\n",
    "    'properties': {\n",
    "      'Company': {'type': 'string'},\n",
    "      'Company response': {'type': 'string'},\n",
    "      'Complaint ID': {'type': 'integer'},\n",
    "      'Consumer disputed?': {'type': 'string'},\n",
    "      'Date received': {'type': 'date', 'format': 'strict_date_optional_time'},\n",
    "      'Date sent to company': {'type': 'date', 'format': 'strict_date_optional_time'},\n",
    "      'Issue': {'type': 'string'},\n",
    "      'Product': {'type': 'string'},\n",
    "      'State': {'type': 'string'},\n",
    "      'Sub-issue': {'type': 'string'},\n",
    "      'Sub-product': {'type': 'string'},\n",
    "      'Timely response?': {'type': 'string'},\n",
    "      'ZIP code': {'type': 'integer'}\n",
    "    }\n",
    "  }\n",
    ")"
   ],
   "outputs": [
    {
     "text": [
      "//anaconda/lib/python2.7/site-packages/urllib3/connectionpool.py:769: InsecureRequestWarning: Unverified HTTPS request is being made. Adding certificate verification is strongly advised. See: https://urllib3.readthedocs.org/en/latest/security.html\n",
      "  InsecureRequestWarning)\n"
     ],
     "name": "stderr",
     "output_type": "stream"
    },
    {
     "execution_count": 21,
     "data": {
      "text/plain": [
       "{u'acknowledged': True}"
      ]
     },
     "metadata": {},
     "output_type": "execute_result"
    }
   ]
  },
  {
   "cell_type": "code",
   "metadata": {
    "collapsed": false
   },
   "source": [
    "client.indices.get_mapping()"
   ],
   "outputs": [
    {
     "text": [
      "//anaconda/lib/python2.7/site-packages/urllib3/connectionpool.py:769: InsecureRequestWarning: Unverified HTTPS request is being made. Adding certificate verification is strongly advised. See: https://urllib3.readthedocs.org/en/latest/security.html\n",
      "  InsecureRequestWarning)\n"
     ],
     "name": "stderr",
     "output_type": "stream"
    },
    {
     "execution_count": 22,
     "data": {
      "text/plain": [
       "{u'plotly_datasets': {u'mappings': {u'consumer_complaints': {u'properties': {u'Company': {u'type': u'string'},\n",
       "     u'Company response': {u'type': u'string'},\n",
       "     u'Complaint ID': {u'type': u'integer'},\n",
       "     u'Consumer disputed?': {u'type': u'string'},\n",
       "     u'Date received': {u'format': u'strict_date_optional_time',\n",
       "      u'type': u'date'},\n",
       "     u'Date sent to company': {u'format': u'strict_date_optional_time',\n",
       "      u'type': u'date'},\n",
       "     u'Issue': {u'type': u'string'},\n",
       "     u'Product': {u'type': u'string'},\n",
       "     u'State': {u'type': u'string'},\n",
       "     u'Sub-issue': {u'type': u'string'},\n",
       "     u'Sub-product': {u'type': u'string'},\n",
       "     u'Timely response?': {u'type': u'string'},\n",
       "     u'ZIP code': {u'type': u'integer'}}}}},\n",
       " u'sample-data': {u'mappings': {u'test-type': {u'properties': {u'aggs': {u'properties': {u'agg1': {u'properties': {u'aggs': {u'properties': {u'agg2': {u'properties': {u'sum': {u'properties': {u'field': {u'type': u'string'}}}}}}},\n",
       "         u'histogram': {u'properties': {u'field': {u'type': u'string'},\n",
       "           u'interval': {u'type': u'long'}}}}}}},\n",
       "     u'from': {u'type': u'long'},\n",
       "     u'my-boolean-1': {u'type': u'boolean'},\n",
       "     u'my-boolean-2': {u'type': u'boolean'},\n",
       "     u'my-date-1': {u'format': u'strict_date_optional_time||epoch_millis',\n",
       "      u'type': u'date'},\n",
       "     u'my-date-2': {u'format': u'strict_date_optional_time||epoch_millis',\n",
       "      u'type': u'date'},\n",
       "     u'my-geo-point-1': {u'type': u'geo_point'},\n",
       "     u'my-geo-point-2': {u'type': u'geo_point'},\n",
       "     u'my-number-1': {u'type': u'long'},\n",
       "     u'my-number-2': {u'type': u'long'},\n",
       "     u'my-string-1': {u'type': u'string'},\n",
       "     u'my-string-2': {u'type': u'string'},\n",
       "     u'query': {u'properties': {u'query_string': {u'properties': {u'query': {u'type': u'string'}}}}},\n",
       "     u'size': {u'type': u'long'}}}}}}"
      ]
     },
     "metadata": {},
     "output_type": "execute_result"
    }
   ],
   "execution_count": 22
  },
  {
   "cell_type": "code",
   "execution_count": 23,
   "metadata": {
    "collapsed": false
   },
   "source": [
    "bulk = []\n",
    "for i in range(len(newdf)):\n",
    "    bulk.append({'index': {'_index': 'plotly_datasets', '_type': 'consumer_complaints', '_id': str(i)}})\n",
    "    bulk.append(newdf.iloc[i].to_dict())"
   ],
   "outputs": []
  },
  {
   "cell_type": "code",
   "execution_count": 24,
   "metadata": {
    "collapsed": false
   },
   "source": [
    "response = client.bulk(bulk, request_timeout=100000)"
   ],
   "outputs": [
    {
     "text": [
      "//anaconda/lib/python2.7/site-packages/urllib3/connectionpool.py:769: InsecureRequestWarning: Unverified HTTPS request is being made. Adding certificate verification is strongly advised. See: https://urllib3.readthedocs.org/en/latest/security.html\n",
      "  InsecureRequestWarning)\n"
     ],
     "name": "stderr",
     "output_type": "stream"
    }
   ]
  },
  {
   "cell_type": "code",
   "execution_count": 25,
   "metadata": {
    "collapsed": false
   },
   "source": [
    "response.keys()"
   ],
   "outputs": [
    {
     "execution_count": 25,
     "data": {
      "text/plain": [
       "[u'items', u'errors', u'took']"
      ]
     },
     "metadata": {},
     "output_type": "execute_result"
    }
   ]
  },
  {
   "cell_type": "code",
   "execution_count": 26,
   "metadata": {
    "collapsed": false
   },
   "source": [
    "response['errors']"
   ],
   "outputs": [
    {
     "execution_count": 26,
     "data": {
      "text/plain": [
       "False"
      ]
     },
     "metadata": {},
     "output_type": "execute_result"
    }
   ]
  },
  {
   "cell_type": "code",
   "execution_count": 27,
   "metadata": {
    "collapsed": false
   },
   "source": [
    "response['took']"
   ],
   "outputs": [
    {
     "execution_count": 27,
     "data": {
      "text/plain": [
       "3207"
      ]
     },
     "metadata": {},
     "output_type": "execute_result"
    }
   ]
  },
  {
   "cell_type": "code",
   "execution_count": 28,
   "metadata": {
    "collapsed": false
   },
   "source": [
    "len(response['items'])"
   ],
   "outputs": [
    {
     "execution_count": 28,
     "data": {
      "text/plain": [
       "28156"
      ]
     },
     "metadata": {},
     "output_type": "execute_result"
    }
   ]
  },
  {
   "cell_type": "code",
   "execution_count": 142,
   "metadata": {
    "collapsed": false
   },
   "source": [
    "response['items'][0]['index']['status'] == 201"
   ],
   "outputs": [
    {
     "execution_count": 142,
     "data": {
      "text/plain": [
       "True"
      ]
     },
     "metadata": {},
     "output_type": "execute_result",
     "text": []
    }
   ]
  },
  {
   "cell_type": "code",
   "execution_count": 143,
   "metadata": {
    "collapsed": false
   },
   "source": [
    "errors = [res for res in response['items'] if res['index']['status'] != 201]\n",
    "len(errors)"
   ],
   "outputs": [
    {
     "execution_count": 143,
     "data": {
      "text/plain": [
       "0"
      ]
     },
     "metadata": {},
     "output_type": "execute_result",
     "text": []
    }
   ]
  },
  {
   "cell_type": "code",
   "execution_count": 109,
   "metadata": {
    "collapsed": false
   },
   "source": [
    "client.search(\n",
    "  index='plotly_datasets',\n",
    "  doc_type='consumer_complaints',\n",
    "  body={\n",
    "    'query': {\n",
    "      'match_all': {}\n",
    "    },\n",
    "    'size':1\n",
    "  }\n",
    ")"
   ],
   "outputs": [
    {
     "text": [
      "//anaconda/lib/python2.7/site-packages/urllib3/connectionpool.py:769: InsecureRequestWarning: Unverified HTTPS request is being made. Adding certificate verification is strongly advised. See: https://urllib3.readthedocs.org/en/latest/security.html\n",
      "  InsecureRequestWarning)\n"
     ],
     "name": "stderr",
     "output_type": "stream"
    },
    {
     "execution_count": 109,
     "data": {
      "text/plain": [
       "{u'_shards': {u'failed': 0, u'successful': 1, u'total': 1},\n",
       " u'hits': {u'hits': [{u'_id': u'0',\n",
       "    u'_index': u'plotly_datasets',\n",
       "    u'_score': 1.0,\n",
       "    u'_source': {u'Company': u'Premium Asset Services, LLC',\n",
       "     u'Company response': u'In progress',\n",
       "     u'Complaint ID': 1291006,\n",
       "     u'Consumer disputed?': u'None',\n",
       "     u'Date received': u'2015-03-19',\n",
       "     u'Date sent to company': u'2015-03-19',\n",
       "     u'Issue': u'Communication tactics',\n",
       "     u'Product': u'Debt collection',\n",
       "     u'State': u'TX',\n",
       "     u'Sub-issue': u'Frequent or repeated calls',\n",
       "     u'Sub-product': u'None',\n",
       "     u'Timely response?': u'Yes',\n",
       "     u'ZIP code': 76119.0},\n",
       "    u'_type': u'consumer_complaints'}],\n",
       "  u'max_score': 1.0,\n",
       "  u'total': 28156},\n",
       " u'timed_out': False,\n",
       " u'took': 1}"
      ]
     },
     "metadata": {},
     "output_type": "execute_result"
    }
   ]
  },
  {
   "cell_type": "code",
   "execution_count": 88,
   "metadata": {
    "collapsed": false
   },
   "source": [
    "import requests\n",
    "import json"
   ],
   "outputs": []
  },
  {
   "cell_type": "code",
   "execution_count": 51,
   "metadata": {
    "collapsed": false
   },
   "source": [
    "domain = 'https://67a7441549120daa2dbeef8ac4f5bb2e.us-east-1.aws.found.io:9243'"
   ],
   "outputs": []
  },
  {
   "cell_type": "code",
   "execution_count": 95,
   "metadata": {
    "collapsed": false
   },
   "source": [
    "body = json.dumps({\n",
    "  \"query\": {\n",
    "        \"match_all\" : { }\n",
    "  },\n",
    "  \"size\": 20\n",
    "})\n"
   ],
   "outputs": []
  },
  {
   "cell_type": "code",
   "execution_count": 96,
   "metadata": {
    "collapsed": false
   },
   "source": [
    "r = requests.post(domain + '/plotly_datasets/consumer_complaints/_search?format=json', data = body )\n",
    "response = r.json()\n",
    "len(response['hits']['hits'])"
   ],
   "outputs": []
  },
  {
   "cell_type": "code",
   "execution_count": 103,
   "metadata": {
    "collapsed": false
   },
   "source": [
    "body = json.dumps({\n",
    "  \"query\": {\n",
    "        \"match_all\" : { }\n",
    "  },\n",
    "  \"size\": 10001\n",
    "})"
   ],
   "outputs": []
  },
  {
   "cell_type": "code",
   "execution_count": 105,
   "metadata": {
    "collapsed": false
   },
   "source": [
    "r = requests.post(domain + '/plotly_datasets/consumer_complaints/_search?format=json&scroll=1m', data = body )\n",
    "response = r.json()\n",
    "len(response['hits']['hits'])"
   ],
   "outputs": [
    {
     "execution_count": 105,
     "data": {
      "text/plain": [
       "10001"
      ]
     },
     "metadata": {},
     "output_type": "execute_result"
    }
   ]
  },
  {
   "cell_type": "code",
   "execution_count": 107,
   "metadata": {
    "collapsed": false
   },
   "source": [
    "response.keys()"
   ],
   "outputs": [
    {
     "execution_count": 107,
     "data": {
      "text/plain": [
       "[u'hits', u'_shards', u'took', u'_scroll_id', u'timed_out']"
      ]
     },
     "metadata": {},
     "output_type": "execute_result"
    }
   ]
  },
  {
   "cell_type": "code",
   "execution_count": 117,
   "metadata": {
    "collapsed": false
   },
   "source": [
    "response = client.search(\n",
    "  index='sample-data',\n",
    "  doc_type='test-type',\n",
    "  body={\n",
    "    'query': {\n",
    "      'match_all': {}\n",
    "    }\n",
    "  }\n",
    ")"
   ],
   "outputs": [
    {
     "text": [
      "//anaconda/lib/python2.7/site-packages/urllib3/connectionpool.py:769: InsecureRequestWarning: Unverified HTTPS request is being made. Adding certificate verification is strongly advised. See: https://urllib3.readthedocs.org/en/latest/security.html\n",
      "  InsecureRequestWarning)\n"
     ],
     "name": "stderr",
     "output_type": "stream"
    }
   ]
  },
  {
   "cell_type": "code",
   "execution_count": 145,
   "metadata": {
    "collapsed": false
   },
   "source": [
    "client.ping()"
   ],
   "outputs": [
    {
     "text": [
      "//anaconda/lib/python2.7/site-packages/urllib3/connectionpool.py:769: InsecureRequestWarning: Unverified HTTPS request is being made. Adding certificate verification is strongly advised. See: https://urllib3.readthedocs.org/en/latest/security.html\n",
      "  InsecureRequestWarning)\n"
     ],
     "name": "stderr",
     "output_type": "stream"
    },
    {
     "execution_count": 145,
     "data": {
      "text/plain": [
       "True"
      ]
     },
     "metadata": {},
     "output_type": "execute_result"
    }
   ]
  },
  {
   "cell_type": "code",
   "execution_count": 160,
   "metadata": {
    "collapsed": false
   },
   "source": [
    "# upload the data to elasticsearch\n",
    "try:\n",
    "  client.indices.delete('sample-data')\n",
    "except:\n",
    "  pass"
   ],
   "outputs": [
    {
     "text": [
      "//anaconda/lib/python2.7/site-packages/urllib3/connectionpool.py:769: InsecureRequestWarning: Unverified HTTPS request is being made. Adding certificate verification is strongly advised. See: https://urllib3.readthedocs.org/en/latest/security.html\n",
      "  InsecureRequestWarning)\n"
     ],
     "name": "stderr",
     "output_type": "stream"
    }
   ]
  },
  {
   "cell_type": "code",
   "execution_count": 161,
   "metadata": {
    "collapsed": false
   },
   "source": [
    "client.indices.create('sample-data')"
   ],
   "outputs": [
    {
     "text": [
      "//anaconda/lib/python2.7/site-packages/urllib3/connectionpool.py:769: InsecureRequestWarning: Unverified HTTPS request is being made. Adding certificate verification is strongly advised. See: https://urllib3.readthedocs.org/en/latest/security.html\n",
      "  InsecureRequestWarning)\n"
     ],
     "name": "stderr",
     "output_type": "stream"
    },
    {
     "execution_count": 161,
     "data": {
      "text/plain": [
       "{u'acknowledged': True}"
      ]
     },
     "metadata": {},
     "output_type": "execute_result"
    }
   ]
  },
  {
   "cell_type": "code",
   "execution_count": 162,
   "metadata": {
    "collapsed": false
   },
   "source": [
    "client.indices.put_mapping(\n",
    "  index='sample-data',\n",
    "  doc_type='test-type',    \n",
    "  body={\n",
    "   'properties': {\n",
    "     'my-boolean-1': {\n",
    "       'type': 'boolean'\n",
    "     },\n",
    "     'my-boolean-2': {\n",
    "       'type': 'boolean'\n",
    "     },\n",
    "     'my-date-1': {\n",
    "       'format': 'strict_date_optional_time||epoch_millis',\n",
    "       'type': 'date'\n",
    "     },\n",
    "     'my-date-2': {\n",
    "       'format': 'strict_date_optional_time||epoch_millis',\n",
    "       'type': 'date'\n",
    "     },\n",
    "     'my-geo-point-1': {\n",
    "       'type': 'geo_point'\n",
    "     },\n",
    "     'my-geo-point-2': {\n",
    "       'type': 'geo_point'\n",
    "     },\n",
    "     'my-number-1': {\n",
    "       'type': 'long'\n",
    "     },\n",
    "     'my-number-2': {\n",
    "       'type': 'long'\n",
    "     },\n",
    "     'my-string-1': {\n",
    "       'type': 'string'\n",
    "     },\n",
    "     'my-string-2': {\n",
    "       'type': 'string'\n",
    "     }\n",
    "   }\n",
    "  }\n",
    ")             "
   ],
   "outputs": [
    {
     "text": [
      "//anaconda/lib/python2.7/site-packages/urllib3/connectionpool.py:769: InsecureRequestWarning: Unverified HTTPS request is being made. Adding certificate verification is strongly advised. See: https://urllib3.readthedocs.org/en/latest/security.html\n",
      "  InsecureRequestWarning)\n"
     ],
     "name": "stderr",
     "output_type": "stream"
    },
    {
     "execution_count": 162,
     "data": {
      "text/plain": [
       "{u'acknowledged': True}"
      ]
     },
     "metadata": {},
     "output_type": "execute_result"
    }
   ]
  },
  {
   "cell_type": "code",
   "execution_count": 163,
   "metadata": {
    "collapsed": false
   },
   "source": [
    "sample_data = pd.DataFrame(\n",
    "    columns=[\n",
    "        'my-string-1', 'my-string-2',\n",
    "        'my-number-1', 'my-number-2',\n",
    "        'my-date-1', 'my-date-2',\n",
    "        'my-boolean-1', 'my-boolean-2',\n",
    "        'my-geo-point-1', 'my-geo-point-2'\n",
    "        # TODO - do these        \n",
    "        # 'my-geo-point-2',\n",
    "#         'my-geo-shape-1', 'my-geo-shape-2', \n",
    "#         'my-ipv4-1', 'my-ipv4-2',\n",
    "        # skipping array, object, nested, completion, token, mapper-murmur3\n",
    "    ],\n",
    "    data=zip(*[\n",
    "        ['NYC', 'NYC', 'NYC', 'Paris', 'Paris', 'Tokyo', 'Tokyo', 'Tokyo', 'SF', 'Sf', 'Montreal'],\n",
    "        ['USA', 'USA', 'USA', 'France', 'France', 'Japan', 'Japan', 'Japan', 'USA', 'USA', 'Canada'],\n",
    "        [1, 2, 3, 4, 5, 6, 7, 8, 9, 10, 11],\n",
    "        [10, 20, 30, 40, 50, 60, 70, 80, 90, 100, 110],\n",
    "    \n",
    "        [\n",
    "            '2015-01-01T12:30:40Z',\n",
    "            '2015-10-04T12:35:10Z',\n",
    "            '2015-02-02T12:45:02Z',\n",
    "\n",
    "            '2015-04-12T12:55:05Z',\n",
    "            '2016-02-15T08:10:10Z',\n",
    "\n",
    "            '2016-01-10T06:05:02Z',\n",
    "            '2016-02-11T07:02:01Z',\n",
    "            '2012-03-13T05:01:05Z',            \n",
    "            \n",
    "            '2010-01-16T01:10:50Z',            \n",
    "            '2011-04-19T02:15:38Z',            \n",
    "\n",
    "            '2012-02-20T03:01:28Z'\n",
    "        ],\n",
    "        [\n",
    "            '1915-01-01T12:30:40Z',\n",
    "            '1915-10-04T12:35:10Z',\n",
    "            '1915-02-02T12:45:02Z',\n",
    "\n",
    "            '1915-04-12T12:55:05Z',\n",
    "            '1916-02-15T08:10:10Z',\n",
    "\n",
    "            '1916-01-10T06:05:02Z',\n",
    "            '1916-02-11T07:02:01Z',\n",
    "            '1912-03-13T05:01:05Z',            \n",
    "            \n",
    "            '1910-01-16T01:10:50Z',            \n",
    "            '1911-04-19T02:15:38Z',            \n",
    "\n",
    "            '1912-02-20T03:01:28Z'\n",
    "        ],\n",
    "        [True, True, True, False, False, True, True, True, False, False, True],\n",
    "        [True, False, True, False, True, False, True, False, True, False, True],\n",
    "        \n",
    "        [\n",
    "            [10, 10],\n",
    "            [11, 11],           \n",
    "            [12, 12],\n",
    "            \n",
    "            [20, 20],\n",
    "            [21, 21],           \n",
    "\n",
    "            [30, 30],\n",
    "            [31, 31],        \n",
    "            [32, 32],\n",
    "            \n",
    "            [40, 40],\n",
    "            [41, 41],        \n",
    "\n",
    "            [50, 50]                    \n",
    "        ],\n",
    "        \n",
    "        [\n",
    "            [-10, -10],\n",
    "            [-11, -11],           \n",
    "            [-12, -12],\n",
    "            \n",
    "            [-20, -20],\n",
    "            [-21, -21],           \n",
    "\n",
    "            [-30, -30],\n",
    "            [-31, -31],        \n",
    "            [-32, -32],\n",
    "            \n",
    "            [-40, -40],\n",
    "            [-41, -41],        \n",
    "\n",
    "            [-50, -50]                    \n",
    "        ]        \n",
    "    ])\n",
    ")"
   ],
   "outputs": []
  },
  {
   "cell_type": "code",
   "execution_count": 164,
   "metadata": {
    "collapsed": false
   },
   "source": [
    "sample_data"
   ],
   "outputs": [
    {
     "execution_count": 164,
     "data": {
      "text/plain": [
       "   my-string-1 my-string-2  my-number-1  my-number-2             my-date-1  \\\n",
       "0          NYC         USA            1           10  2015-01-01T12:30:40Z   \n",
       "1          NYC         USA            2           20  2015-10-04T12:35:10Z   \n",
       "2          NYC         USA            3           30  2015-02-02T12:45:02Z   \n",
       "3        Paris      France            4           40  2015-04-12T12:55:05Z   \n",
       "4        Paris      France            5           50  2016-02-15T08:10:10Z   \n",
       "5        Tokyo       Japan            6           60  2016-01-10T06:05:02Z   \n",
       "6        Tokyo       Japan            7           70  2016-02-11T07:02:01Z   \n",
       "7        Tokyo       Japan            8           80  2012-03-13T05:01:05Z   \n",
       "8           SF         USA            9           90  2010-01-16T01:10:50Z   \n",
       "9           Sf         USA           10          100  2011-04-19T02:15:38Z   \n",
       "10    Montreal      Canada           11          110  2012-02-20T03:01:28Z   \n",
       "\n",
       "               my-date-2 my-boolean-1 my-boolean-2 my-geo-point-1  \\\n",
       "0   1915-01-01T12:30:40Z         True         True       [10, 10]   \n",
       "1   1915-10-04T12:35:10Z         True        False       [11, 11]   \n",
       "2   1915-02-02T12:45:02Z         True         True       [12, 12]   \n",
       "3   1915-04-12T12:55:05Z        False        False       [20, 20]   \n",
       "4   1916-02-15T08:10:10Z        False         True       [21, 21]   \n",
       "5   1916-01-10T06:05:02Z         True        False       [30, 30]   \n",
       "6   1916-02-11T07:02:01Z         True         True       [31, 31]   \n",
       "7   1912-03-13T05:01:05Z         True        False       [32, 32]   \n",
       "8   1910-01-16T01:10:50Z        False         True       [40, 40]   \n",
       "9   1911-04-19T02:15:38Z        False        False       [41, 41]   \n",
       "10  1912-02-20T03:01:28Z         True         True       [50, 50]   \n",
       "\n",
       "   my-geo-point-2  \n",
       "0      [-10, -10]  \n",
       "1      [-11, -11]  \n",
       "2      [-12, -12]  \n",
       "3      [-20, -20]  \n",
       "4      [-21, -21]  \n",
       "5      [-30, -30]  \n",
       "6      [-31, -31]  \n",
       "7      [-32, -32]  \n",
       "8      [-40, -40]  \n",
       "9      [-41, -41]  \n",
       "10     [-50, -50]  "
      ],
      "text/html": [
       "<div>\n",
       "<table border=\"1\" class=\"dataframe\">\n",
       "  <thead>\n",
       "    <tr style=\"text-align: right;\">\n",
       "      <th></th>\n",
       "      <th>my-string-1</th>\n",
       "      <th>my-string-2</th>\n",
       "      <th>my-number-1</th>\n",
       "      <th>my-number-2</th>\n",
       "      <th>my-date-1</th>\n",
       "      <th>my-date-2</th>\n",
       "      <th>my-boolean-1</th>\n",
       "      <th>my-boolean-2</th>\n",
       "      <th>my-geo-point-1</th>\n",
       "      <th>my-geo-point-2</th>\n",
       "    </tr>\n",
       "  </thead>\n",
       "  <tbody>\n",
       "    <tr>\n",
       "      <th>0</th>\n",
       "      <td>NYC</td>\n",
       "      <td>USA</td>\n",
       "      <td>1</td>\n",
       "      <td>10</td>\n",
       "      <td>2015-01-01T12:30:40Z</td>\n",
       "      <td>1915-01-01T12:30:40Z</td>\n",
       "      <td>True</td>\n",
       "      <td>True</td>\n",
       "      <td>[10, 10]</td>\n",
       "      <td>[-10, -10]</td>\n",
       "    </tr>\n",
       "    <tr>\n",
       "      <th>1</th>\n",
       "      <td>NYC</td>\n",
       "      <td>USA</td>\n",
       "      <td>2</td>\n",
       "      <td>20</td>\n",
       "      <td>2015-10-04T12:35:10Z</td>\n",
       "      <td>1915-10-04T12:35:10Z</td>\n",
       "      <td>True</td>\n",
       "      <td>False</td>\n",
       "      <td>[11, 11]</td>\n",
       "      <td>[-11, -11]</td>\n",
       "    </tr>\n",
       "    <tr>\n",
       "      <th>2</th>\n",
       "      <td>NYC</td>\n",
       "      <td>USA</td>\n",
       "      <td>3</td>\n",
       "      <td>30</td>\n",
       "      <td>2015-02-02T12:45:02Z</td>\n",
       "      <td>1915-02-02T12:45:02Z</td>\n",
       "      <td>True</td>\n",
       "      <td>True</td>\n",
       "      <td>[12, 12]</td>\n",
       "      <td>[-12, -12]</td>\n",
       "    </tr>\n",
       "    <tr>\n",
       "      <th>3</th>\n",
       "      <td>Paris</td>\n",
       "      <td>France</td>\n",
       "      <td>4</td>\n",
       "      <td>40</td>\n",
       "      <td>2015-04-12T12:55:05Z</td>\n",
       "      <td>1915-04-12T12:55:05Z</td>\n",
       "      <td>False</td>\n",
       "      <td>False</td>\n",
       "      <td>[20, 20]</td>\n",
       "      <td>[-20, -20]</td>\n",
       "    </tr>\n",
       "    <tr>\n",
       "      <th>4</th>\n",
       "      <td>Paris</td>\n",
       "      <td>France</td>\n",
       "      <td>5</td>\n",
       "      <td>50</td>\n",
       "      <td>2016-02-15T08:10:10Z</td>\n",
       "      <td>1916-02-15T08:10:10Z</td>\n",
       "      <td>False</td>\n",
       "      <td>True</td>\n",
       "      <td>[21, 21]</td>\n",
       "      <td>[-21, -21]</td>\n",
       "    </tr>\n",
       "    <tr>\n",
       "      <th>5</th>\n",
       "      <td>Tokyo</td>\n",
       "      <td>Japan</td>\n",
       "      <td>6</td>\n",
       "      <td>60</td>\n",
       "      <td>2016-01-10T06:05:02Z</td>\n",
       "      <td>1916-01-10T06:05:02Z</td>\n",
       "      <td>True</td>\n",
       "      <td>False</td>\n",
       "      <td>[30, 30]</td>\n",
       "      <td>[-30, -30]</td>\n",
       "    </tr>\n",
       "    <tr>\n",
       "      <th>6</th>\n",
       "      <td>Tokyo</td>\n",
       "      <td>Japan</td>\n",
       "      <td>7</td>\n",
       "      <td>70</td>\n",
       "      <td>2016-02-11T07:02:01Z</td>\n",
       "      <td>1916-02-11T07:02:01Z</td>\n",
       "      <td>True</td>\n",
       "      <td>True</td>\n",
       "      <td>[31, 31]</td>\n",
       "      <td>[-31, -31]</td>\n",
       "    </tr>\n",
       "    <tr>\n",
       "      <th>7</th>\n",
       "      <td>Tokyo</td>\n",
       "      <td>Japan</td>\n",
       "      <td>8</td>\n",
       "      <td>80</td>\n",
       "      <td>2012-03-13T05:01:05Z</td>\n",
       "      <td>1912-03-13T05:01:05Z</td>\n",
       "      <td>True</td>\n",
       "      <td>False</td>\n",
       "      <td>[32, 32]</td>\n",
       "      <td>[-32, -32]</td>\n",
       "    </tr>\n",
       "    <tr>\n",
       "      <th>8</th>\n",
       "      <td>SF</td>\n",
       "      <td>USA</td>\n",
       "      <td>9</td>\n",
       "      <td>90</td>\n",
       "      <td>2010-01-16T01:10:50Z</td>\n",
       "      <td>1910-01-16T01:10:50Z</td>\n",
       "      <td>False</td>\n",
       "      <td>True</td>\n",
       "      <td>[40, 40]</td>\n",
       "      <td>[-40, -40]</td>\n",
       "    </tr>\n",
       "    <tr>\n",
       "      <th>9</th>\n",
       "      <td>Sf</td>\n",
       "      <td>USA</td>\n",
       "      <td>10</td>\n",
       "      <td>100</td>\n",
       "      <td>2011-04-19T02:15:38Z</td>\n",
       "      <td>1911-04-19T02:15:38Z</td>\n",
       "      <td>False</td>\n",
       "      <td>False</td>\n",
       "      <td>[41, 41]</td>\n",
       "      <td>[-41, -41]</td>\n",
       "    </tr>\n",
       "    <tr>\n",
       "      <th>10</th>\n",
       "      <td>Montreal</td>\n",
       "      <td>Canada</td>\n",
       "      <td>11</td>\n",
       "      <td>110</td>\n",
       "      <td>2012-02-20T03:01:28Z</td>\n",
       "      <td>1912-02-20T03:01:28Z</td>\n",
       "      <td>True</td>\n",
       "      <td>True</td>\n",
       "      <td>[50, 50]</td>\n",
       "      <td>[-50, -50]</td>\n",
       "    </tr>\n",
       "  </tbody>\n",
       "</table>\n",
       "</div>"
      ]
     },
     "metadata": {},
     "output_type": "execute_result"
    }
   ]
  },
  {
   "cell_type": "code",
   "execution_count": 165,
   "metadata": {
    "collapsed": false
   },
   "source": [
    "bulk = []\n",
    "for i in range(len(sample_data)):\n",
    "    bulk.append({'index': {'_index': 'sample-data', '_type': 'test-type', '_id': str(i)}})\n",
    "\n",
    "    row = sample_data.iloc[i].to_dict()\n",
    "    row['my-boolean-1'] = bool(sample_data.iloc[i].to_dict()['my-boolean-1'] )\n",
    "    row['my-boolean-2'] = bool(sample_data.iloc[i].to_dict()['my-boolean-2'] )\n",
    "    bulk.append(row)"
   ],
   "outputs": []
  },
  {
   "cell_type": "code",
   "execution_count": 166,
   "metadata": {
    "collapsed": false
   },
   "source": [
    "response = client.bulk(bulk, request_timeout=100000)"
   ],
   "outputs": [
    {
     "text": [
      "//anaconda/lib/python2.7/site-packages/urllib3/connectionpool.py:769: InsecureRequestWarning: Unverified HTTPS request is being made. Adding certificate verification is strongly advised. See: https://urllib3.readthedocs.org/en/latest/security.html\n",
      "  InsecureRequestWarning)\n"
     ],
     "name": "stderr",
     "output_type": "stream"
    }
   ]
  },
  {
   "cell_type": "code",
   "execution_count": 167,
   "metadata": {
    "collapsed": false
   },
   "source": [
    "response.keys()"
   ],
   "outputs": [
    {
     "execution_count": 167,
     "data": {
      "text/plain": [
       "[u'items', u'errors', u'took']"
      ]
     },
     "metadata": {},
     "output_type": "execute_result"
    }
   ]
  },
  {
   "cell_type": "code",
   "execution_count": 168,
   "metadata": {
    "collapsed": false
   },
   "source": [
    "response['errors']"
   ],
   "outputs": [
    {
     "execution_count": 168,
     "data": {
      "text/plain": [
       "False"
      ]
     },
     "metadata": {},
     "output_type": "execute_result"
    }
   ]
  },
  {
   "cell_type": "code",
   "execution_count": 157,
   "metadata": {
    "collapsed": false
   },
   "source": [
    "response['items']"
   ],
   "outputs": [
    {
     "execution_count": 157,
     "data": {
      "text/plain": [
       "[{u'index': {u'_id': u'0',\n",
       "   u'_index': u'sample-data',\n",
       "   u'_shards': {u'failed': 0, u'successful': 1, u'total': 2},\n",
       "   u'_type': u'test-type',\n",
       "   u'_version': 1,\n",
       "   u'status': 201}},\n",
       " {u'index': {u'_id': u'1',\n",
       "   u'_index': u'sample-data',\n",
       "   u'_shards': {u'failed': 0, u'successful': 1, u'total': 2},\n",
       "   u'_type': u'test-type',\n",
       "   u'_version': 1,\n",
       "   u'status': 201}},\n",
       " {u'index': {u'_id': u'2',\n",
       "   u'_index': u'sample-data',\n",
       "   u'_shards': {u'failed': 0, u'successful': 1, u'total': 2},\n",
       "   u'_type': u'test-type',\n",
       "   u'_version': 1,\n",
       "   u'status': 201}},\n",
       " {u'index': {u'_id': u'3',\n",
       "   u'_index': u'sample-data',\n",
       "   u'_shards': {u'failed': 0, u'successful': 1, u'total': 2},\n",
       "   u'_type': u'test-type',\n",
       "   u'_version': 1,\n",
       "   u'status': 201}},\n",
       " {u'index': {u'_id': u'4',\n",
       "   u'_index': u'sample-data',\n",
       "   u'_shards': {u'failed': 0, u'successful': 1, u'total': 2},\n",
       "   u'_type': u'test-type',\n",
       "   u'_version': 1,\n",
       "   u'status': 201}},\n",
       " {u'index': {u'_id': u'5',\n",
       "   u'_index': u'sample-data',\n",
       "   u'_shards': {u'failed': 0, u'successful': 1, u'total': 2},\n",
       "   u'_type': u'test-type',\n",
       "   u'_version': 1,\n",
       "   u'status': 201}},\n",
       " {u'index': {u'_id': u'6',\n",
       "   u'_index': u'sample-data',\n",
       "   u'_shards': {u'failed': 0, u'successful': 1, u'total': 2},\n",
       "   u'_type': u'test-type',\n",
       "   u'_version': 1,\n",
       "   u'status': 201}},\n",
       " {u'index': {u'_id': u'7',\n",
       "   u'_index': u'sample-data',\n",
       "   u'_shards': {u'failed': 0, u'successful': 1, u'total': 2},\n",
       "   u'_type': u'test-type',\n",
       "   u'_version': 1,\n",
       "   u'status': 201}},\n",
       " {u'index': {u'_id': u'8',\n",
       "   u'_index': u'sample-data',\n",
       "   u'_shards': {u'failed': 0, u'successful': 1, u'total': 2},\n",
       "   u'_type': u'test-type',\n",
       "   u'_version': 1,\n",
       "   u'status': 201}},\n",
       " {u'index': {u'_id': u'9',\n",
       "   u'_index': u'sample-data',\n",
       "   u'_shards': {u'failed': 0, u'successful': 1, u'total': 2},\n",
       "   u'_type': u'test-type',\n",
       "   u'_version': 1,\n",
       "   u'status': 201}},\n",
       " {u'index': {u'_id': u'10',\n",
       "   u'_index': u'sample-data',\n",
       "   u'_type': u'test-type',\n",
       "   u'error': {u'caused_by': {u'reason': u'Invalid format: \"1912-02-20 03:01:28\" is malformed at \" 03:01:28\"',\n",
       "     u'type': u'illegal_argument_exception'},\n",
       "    u'reason': u'failed to parse [my-date-2]',\n",
       "    u'type': u'mapper_parsing_exception'},\n",
       "   u'status': 400}}]"
      ]
     },
     "metadata": {},
     "output_type": "execute_result"
    }
   ]
  },
  {
   "cell_type": "code",
   "execution_count": null,
   "metadata": {
    "collapsed": false
   },
   "source": [],
   "outputs": []
  }
 ],
 "nbformat": 4,
 "nbformat_minor": 0,
 "metadata": {
  "kernelspec": {
   "name": "python2",
   "language": "python",
   "display_name": "Python 2"
  },
  "kernel_info": {
   "name": "python2"
  },
  "language_info": {
   "mimetype": "text/x-python",
   "nbconvert_exporter": "python",
   "name": "python",
   "pygments_lexer": "ipython2",
   "version": "2.7.12",
   "file_extension": ".py",
   "codemirror_mode": {
    "version": 2,
    "name": "ipython"
   }
  }
 }
}