{
 "cells": [
  {
   "cell_type": "code",
   "execution_count": 1,
   "metadata": {
    "collapsed": false
   },
   "source": [
    "from elasticsearch import Elasticsearch\n",
    "from elasticsearch_dsl import Search, Q"
   ],
   "outputs": []
  },
  {
   "cell_type": "code",
   "execution_count": 2,
   "metadata": {
    "collapsed": false
   },
   "source": [
    "client = Elasticsearch('http://localhost:9200')"
   ],
   "outputs": []
  },
  {
   "cell_type": "code",
   "execution_count": 3,
   "metadata": {
    "collapsed": false
   },
   "source": [
    "import pandas as pd"
   ],
   "outputs": [
    {
     "text": [
      "//anaconda/lib/python2.7/site-packages/pandas/computation/__init__.py:19: UserWarning: The installed version of numexpr 2.4.4 is not supported in pandas and will be not be used\n",
      "\n",
      "  UserWarning)\n"
     ],
     "name": "stderr",
     "output_type": "stream"
    }
   ]
  },
  {
   "cell_type": "code",
   "execution_count": 31,
   "metadata": {
    "collapsed": false
   },
   "source": [
    "# upload the data to elasticsearch\n",
    "\n",
    "try:\n",
    "\tclient.indices.delete('ergospace')\n",
    "except:\n",
    "\tpass\n",
    "  \n",
    "client.indices.create(\n",
    "    index='ergospace',\n",
    "    body={\n",
    "        'mappings': {\n",
    "            'exercices': {\n",
    "                'properties': {\n",
    "                    \n",
    "                }\n",
    "            }\n",
    "        }\n",
    "    }\n",
    ")"
   ],
   "outputs": [
    {
     "text": [
      "WARNING:elasticsearch:DELETE /ergospace [status:404 request:0.002s]\n"
     ],
     "name": "stderr",
     "output_type": "stream"
    },
    {
     "execution_count": 31,
     "data": {
      "text/plain": [
       "{u'acknowledged': True}"
      ]
     },
     "metadata": {},
     "output_type": "execute_result"
    }
   ]
  },
  {
   "cell_type": "code",
   "execution_count": 32,
   "metadata": {
    "collapsed": false
   },
   "source": [
    "df = pd.DataFrame(pd.read_excel(\"/Users/Alexandre/Downloads/Plateforme ergo - Database Rev.xlsx\"))"
   ],
   "outputs": []
  },
  {
   "cell_type": "code",
   "execution_count": 33,
   "metadata": {
    "collapsed": false
   },
   "source": [
    "df.columns = df.iloc[1]"
   ],
   "outputs": []
  },
  {
   "cell_type": "code",
   "execution_count": 34,
   "metadata": {
    "collapsed": false
   },
   "source": [
    "df = df.drop([0,1])"
   ],
   "outputs": []
  },
  {
   "cell_type": "code",
   "execution_count": 35,
   "metadata": {
    "collapsed": false
   },
   "source": [
    "df = df.fillna(value='Aucun')\n",
    "df.head()"
   ],
   "outputs": [
    {
     "execution_count": 35,
     "data": {
      "text/plain": [
       "1  ExcerciceID                       Nom de l'exercice  \\\n",
       "2            1                 Découpage sur une ligne   \n",
       "3            2  Découpage avec changement de direction   \n",
       "4            3                      Enfiler des perles   \n",
       "5            4                      Tracés horizontaux   \n",
       "6            5                        Tracés verticaux   \n",
       "\n",
       "1                       Nom du fichier de l'exercice       Catégorie  \\\n",
       "2  https://s3.us-east-2.amazonaws.com/cooperathon...  Motricité fine   \n",
       "3  https://s3.us-east-2.amazonaws.com/cooperathon...  Motricité fine   \n",
       "4  https://s3.us-east-2.amazonaws.com/cooperathon...  Motricité fine   \n",
       "5  https://s3.us-east-2.amazonaws.com/cooperathon...  Motricité fine   \n",
       "6  https://s3.us-east-2.amazonaws.com/cooperathon...  Motricité fine   \n",
       "\n",
       "1      Sous-catégorie                                           Document  \\\n",
       "2           Découpage                Description_découpage sur une ligne   \n",
       "3           Découpage  Description_découpage avec changement de direc...   \n",
       "4  Enfiler des perles                     Description_enfiler des perles   \n",
       "5              Tracés                     Description_tracés horizontaux   \n",
       "6              Tracés                       Description_tracés verticaux   \n",
       "\n",
       "1                                             Image1  \\\n",
       "2  https://s3.us-east-2.amazonaws.com/cooperathon...   \n",
       "3  https://s3.us-east-2.amazonaws.com/cooperathon...   \n",
       "4  https://s3.us-east-2.amazonaws.com/cooperathon...   \n",
       "5  https://s3.us-east-2.amazonaws.com/cooperathon...   \n",
       "6  https://s3.us-east-2.amazonaws.com/cooperathon...   \n",
       "\n",
       "1                                             Image2  \\\n",
       "2  https://s3.us-east-2.amazonaws.com/cooperathon...   \n",
       "3                                              Aucun   \n",
       "4  https://s3.us-east-2.amazonaws.com/cooperathon...   \n",
       "5                                              Aucun   \n",
       "6                                              Aucun   \n",
       "\n",
       "1                                             Video1  \\\n",
       "2                                              Aucun   \n",
       "3  https://s3.us-east-2.amazonaws.com/cooperathon...   \n",
       "4                                              Aucun   \n",
       "5  https://s3.us-east-2.amazonaws.com/cooperathon...   \n",
       "6  https://s3.us-east-2.amazonaws.com/cooperathon...   \n",
       "\n",
       "1                                             Video2       Tag1  \\\n",
       "2                                              Aucun  Découpage   \n",
       "3  https://s3.us-east-2.amazonaws.com/cooperathon...  Découpage   \n",
       "4                                              Aucun    Enfiler   \n",
       "5                                              Aucun     Tracés   \n",
       "6                                              Aucun     Tracés   \n",
       "\n",
       "1                  Tag2             Tag3                         Tag4  \n",
       "2   activité bilatérale          ciseaux                        Aucun  \n",
       "3   activité bilatérale           perles                    enfilages  \n",
       "4   activité bilatérale           perles                    enfilages  \n",
       "5  activité unilatérale  prise du crayon  coordination occulo-motrice  \n",
       "6  activité unilatérale  prise du crayon  coordination occulo-motrice  "
      ],
      "text/html": [
       "<div>\n",
       "<table border=\"1\" class=\"dataframe\">\n",
       "  <thead>\n",
       "    <tr style=\"text-align: right;\">\n",
       "      <th>1</th>\n",
       "      <th>ExcerciceID</th>\n",
       "      <th>Nom de l'exercice</th>\n",
       "      <th>Nom du fichier de l'exercice</th>\n",
       "      <th>Catégorie</th>\n",
       "      <th>Sous-catégorie</th>\n",
       "      <th>Document</th>\n",
       "      <th>Image1</th>\n",
       "      <th>Image2</th>\n",
       "      <th>Video1</th>\n",
       "      <th>Video2</th>\n",
       "      <th>Tag1</th>\n",
       "      <th>Tag2</th>\n",
       "      <th>Tag3</th>\n",
       "      <th>Tag4</th>\n",
       "    </tr>\n",
       "  </thead>\n",
       "  <tbody>\n",
       "    <tr>\n",
       "      <th>2</th>\n",
       "      <td>1</td>\n",
       "      <td>Découpage sur une ligne</td>\n",
       "      <td>https://s3.us-east-2.amazonaws.com/cooperathon...</td>\n",
       "      <td>Motricité fine</td>\n",
       "      <td>Découpage</td>\n",
       "      <td>Description_découpage sur une ligne</td>\n",
       "      <td>https://s3.us-east-2.amazonaws.com/cooperathon...</td>\n",
       "      <td>https://s3.us-east-2.amazonaws.com/cooperathon...</td>\n",
       "      <td>Aucun</td>\n",
       "      <td>Aucun</td>\n",
       "      <td>Découpage</td>\n",
       "      <td>activité bilatérale</td>\n",
       "      <td>ciseaux</td>\n",
       "      <td>Aucun</td>\n",
       "    </tr>\n",
       "    <tr>\n",
       "      <th>3</th>\n",
       "      <td>2</td>\n",
       "      <td>Découpage avec changement de direction</td>\n",
       "      <td>https://s3.us-east-2.amazonaws.com/cooperathon...</td>\n",
       "      <td>Motricité fine</td>\n",
       "      <td>Découpage</td>\n",
       "      <td>Description_découpage avec changement de direc...</td>\n",
       "      <td>https://s3.us-east-2.amazonaws.com/cooperathon...</td>\n",
       "      <td>Aucun</td>\n",
       "      <td>https://s3.us-east-2.amazonaws.com/cooperathon...</td>\n",
       "      <td>https://s3.us-east-2.amazonaws.com/cooperathon...</td>\n",
       "      <td>Découpage</td>\n",
       "      <td>activité bilatérale</td>\n",
       "      <td>perles</td>\n",
       "      <td>enfilages</td>\n",
       "    </tr>\n",
       "    <tr>\n",
       "      <th>4</th>\n",
       "      <td>3</td>\n",
       "      <td>Enfiler des perles</td>\n",
       "      <td>https://s3.us-east-2.amazonaws.com/cooperathon...</td>\n",
       "      <td>Motricité fine</td>\n",
       "      <td>Enfiler des perles</td>\n",
       "      <td>Description_enfiler des perles</td>\n",
       "      <td>https://s3.us-east-2.amazonaws.com/cooperathon...</td>\n",
       "      <td>https://s3.us-east-2.amazonaws.com/cooperathon...</td>\n",
       "      <td>Aucun</td>\n",
       "      <td>Aucun</td>\n",
       "      <td>Enfiler</td>\n",
       "      <td>activité bilatérale</td>\n",
       "      <td>perles</td>\n",
       "      <td>enfilages</td>\n",
       "    </tr>\n",
       "    <tr>\n",
       "      <th>5</th>\n",
       "      <td>4</td>\n",
       "      <td>Tracés horizontaux</td>\n",
       "      <td>https://s3.us-east-2.amazonaws.com/cooperathon...</td>\n",
       "      <td>Motricité fine</td>\n",
       "      <td>Tracés</td>\n",
       "      <td>Description_tracés horizontaux</td>\n",
       "      <td>https://s3.us-east-2.amazonaws.com/cooperathon...</td>\n",
       "      <td>Aucun</td>\n",
       "      <td>https://s3.us-east-2.amazonaws.com/cooperathon...</td>\n",
       "      <td>Aucun</td>\n",
       "      <td>Tracés</td>\n",
       "      <td>activité unilatérale</td>\n",
       "      <td>prise du crayon</td>\n",
       "      <td>coordination occulo-motrice</td>\n",
       "    </tr>\n",
       "    <tr>\n",
       "      <th>6</th>\n",
       "      <td>5</td>\n",
       "      <td>Tracés verticaux</td>\n",
       "      <td>https://s3.us-east-2.amazonaws.com/cooperathon...</td>\n",
       "      <td>Motricité fine</td>\n",
       "      <td>Tracés</td>\n",
       "      <td>Description_tracés verticaux</td>\n",
       "      <td>https://s3.us-east-2.amazonaws.com/cooperathon...</td>\n",
       "      <td>Aucun</td>\n",
       "      <td>https://s3.us-east-2.amazonaws.com/cooperathon...</td>\n",
       "      <td>Aucun</td>\n",
       "      <td>Tracés</td>\n",
       "      <td>activité unilatérale</td>\n",
       "      <td>prise du crayon</td>\n",
       "      <td>coordination occulo-motrice</td>\n",
       "    </tr>\n",
       "  </tbody>\n",
       "</table>\n",
       "</div>"
      ]
     },
     "metadata": {},
     "output_type": "execute_result"
    }
   ]
  },
  {
   "cell_type": "code",
   "execution_count": 36,
   "metadata": {
    "collapsed": false
   },
   "source": [
    "bulk = []\n",
    "for i in range(len(df)):\n",
    "    bulk.append({'index': {'_index': 'ergospace', '_type': 'exercices', '_id': str(i)}})\n",
    "    bulk.append(df.iloc[i].to_dict())"
   ],
   "outputs": []
  },
  {
   "cell_type": "code",
   "execution_count": 37,
   "metadata": {
    "collapsed": false
   },
   "source": [
    "response = client.bulk(bulk, request_timeout=1000)"
   ],
   "outputs": []
  },
  {
   "cell_type": "code",
   "execution_count": 38,
   "metadata": {
    "collapsed": false
   },
   "source": [
    "response.keys()"
   ],
   "outputs": [
    {
     "execution_count": 38,
     "data": {
      "text/plain": [
       "[u'items', u'errors', u'took']"
      ]
     },
     "metadata": {},
     "output_type": "execute_result"
    }
   ]
  },
  {
   "cell_type": "code",
   "execution_count": 39,
   "metadata": {
    "collapsed": false
   },
   "source": [
    "response['errors']"
   ],
   "outputs": [
    {
     "execution_count": 39,
     "data": {
      "text/plain": [
       "False"
      ]
     },
     "metadata": {},
     "output_type": "execute_result"
    }
   ]
  },
  {
   "cell_type": "code",
   "execution_count": 40,
   "metadata": {
    "collapsed": false
   },
   "source": [],
   "outputs": []
  },
  {
   "cell_type": "code",
   "execution_count": null,
   "metadata": {
    "collapsed": false
   },
   "source": [],
   "outputs": []
  }
 ],
 "nbformat": 4,
 "nbformat_minor": 0,
 "metadata": {
  "kernelspec": {
   "name": "python2",
   "language": "python",
   "display_name": "Python 2"
  },
  "kernel_info": {
   "name": "python2"
  },
  "language_info": {
   "mimetype": "text/x-python",
   "nbconvert_exporter": "python",
   "name": "python",
   "pygments_lexer": "ipython2",
   "version": "2.7.12",
   "file_extension": ".py",
   "codemirror_mode": {
    "version": 2,
    "name": "ipython"
   }
  }
 }
}