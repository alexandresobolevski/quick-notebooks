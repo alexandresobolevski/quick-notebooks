{
 "cells": [
  {
   "cell_type": "code",
   "execution_count": 3,
   "metadata": {
    "collapsed": false
   },
   "source": [
    "from elasticsearch import Elasticsearch\n",
    "from elasticsearch_dsl import Search, Q"
   ],
   "outputs": []
  },
  {
   "cell_type": "code",
   "execution_count": 4,
   "metadata": {
    "collapsed": false
   },
   "source": [
    "client = Elasticsearch('http://67a7441549120daa2dbeef8ac4f5bb2e.us-east-1.aws.found.io:9200')"
   ],
   "outputs": []
  },
  {
   "cell_type": "code",
   "execution_count": 5,
   "metadata": {
    "collapsed": false
   },
   "source": [
    "import pandas as pd"
   ],
   "outputs": [
    {
     "text": [
      "//anaconda/lib/python2.7/site-packages/pandas/computation/__init__.py:19: UserWarning: The installed version of numexpr 2.4.4 is not supported in pandas and will be not be used\n",
      "\n",
      "  UserWarning)\n"
     ],
     "name": "stderr",
     "output_type": "stream"
    }
   ]
  },
  {
   "cell_type": "code",
   "execution_count": 6,
   "metadata": {
    "collapsed": false
   },
   "source": [
    "# upload the data to elasticsearch\n",
    "\n",
    "try:\n",
    "\tclient.indices.delete('plotly_datasets')\n",
    "except:\n",
    "\tpass\n",
    "  \n",
    "client.indices.create(\n",
    "    index='plotly_datasets',\n",
    "    body={\n",
    "        'mappings': {\n",
    "            'ebola_2014': {\n",
    "                'properties': {\n",
    "                    'index': {'type': 'integer'},\n",
    "                    'Country': {'type': 'string'},                    \n",
    "                    'Month': {'type': 'integer'},\n",
    "                    'Year': {'type': 'integer'},\n",
    "                    'Lat': {'type': 'float'},\n",
    "                    'Lon': {'type': 'float'},\n",
    "                    'Value': {'type': 'float'},\n",
    "                }\n",
    "            }\n",
    "        }\n",
    "    }\n",
    ")"
   ],
   "outputs": [
    {
     "execution_count": 6,
     "data": {
      "text/plain": [
       "{u'acknowledged': True}"
      ]
     },
     "metadata": {},
     "output_type": "execute_result"
    }
   ]
  },
  {
   "cell_type": "code",
   "execution_count": 7,
   "metadata": {
    "collapsed": false
   },
   "source": [
    "df = pd.DataFrame(pd.read_csv(\"/Users/Alexandre/Workstation/repos/datasets/ebola_2014.csv\"))"
   ],
   "outputs": []
  },
  {
   "cell_type": "code",
   "execution_count": 8,
   "metadata": {
    "collapsed": false
   },
   "source": [
    "df.head()"
   ],
   "outputs": [
    {
     "execution_count": 8,
     "data": {
      "text/plain": [
       "  Country  Month  Year   Lat  Lon  Value\n",
       "0  Guinea      3    14  9.95 -9.7    122\n",
       "1  Guinea      4    14  9.95 -9.7    224\n",
       "2  Guinea      5    14  9.95 -9.7    291\n",
       "3  Guinea      6    14  9.95 -9.7    413\n",
       "4  Guinea      7    14  9.95 -9.7    460"
      ],
      "text/html": [
       "<div>\n",
       "<table border=\"1\" class=\"dataframe\">\n",
       "  <thead>\n",
       "    <tr style=\"text-align: right;\">\n",
       "      <th></th>\n",
       "      <th>Country</th>\n",
       "      <th>Month</th>\n",
       "      <th>Year</th>\n",
       "      <th>Lat</th>\n",
       "      <th>Lon</th>\n",
       "      <th>Value</th>\n",
       "    </tr>\n",
       "  </thead>\n",
       "  <tbody>\n",
       "    <tr>\n",
       "      <th>0</th>\n",
       "      <td>Guinea</td>\n",
       "      <td>3</td>\n",
       "      <td>14</td>\n",
       "      <td>9.95</td>\n",
       "      <td>-9.7</td>\n",
       "      <td>122</td>\n",
       "    </tr>\n",
       "    <tr>\n",
       "      <th>1</th>\n",
       "      <td>Guinea</td>\n",
       "      <td>4</td>\n",
       "      <td>14</td>\n",
       "      <td>9.95</td>\n",
       "      <td>-9.7</td>\n",
       "      <td>224</td>\n",
       "    </tr>\n",
       "    <tr>\n",
       "      <th>2</th>\n",
       "      <td>Guinea</td>\n",
       "      <td>5</td>\n",
       "      <td>14</td>\n",
       "      <td>9.95</td>\n",
       "      <td>-9.7</td>\n",
       "      <td>291</td>\n",
       "    </tr>\n",
       "    <tr>\n",
       "      <th>3</th>\n",
       "      <td>Guinea</td>\n",
       "      <td>6</td>\n",
       "      <td>14</td>\n",
       "      <td>9.95</td>\n",
       "      <td>-9.7</td>\n",
       "      <td>413</td>\n",
       "    </tr>\n",
       "    <tr>\n",
       "      <th>4</th>\n",
       "      <td>Guinea</td>\n",
       "      <td>7</td>\n",
       "      <td>14</td>\n",
       "      <td>9.95</td>\n",
       "      <td>-9.7</td>\n",
       "      <td>460</td>\n",
       "    </tr>\n",
       "  </tbody>\n",
       "</table>\n",
       "</div>"
      ]
     },
     "metadata": {},
     "output_type": "execute_result"
    }
   ]
  },
  {
   "cell_type": "code",
   "execution_count": 9,
   "metadata": {
    "collapsed": false
   },
   "source": [
    "bulk = []\n",
    "for i in range(len(df)):\n",
    "    bulk.append({'index': {'_index': 'plotly_datasets', '_type': 'ebola_2014', '_id': str(i)}})\n",
    "    bulk.append(df.iloc[i].to_dict())"
   ],
   "outputs": []
  },
  {
   "cell_type": "code",
   "execution_count": 10,
   "metadata": {
    "collapsed": false
   },
   "source": [
    "response = client.bulk(bulk, request_timeout=1000)"
   ],
   "outputs": []
  },
  {
   "cell_type": "code",
   "execution_count": 11,
   "metadata": {
    "collapsed": false
   },
   "source": [
    "response.keys()"
   ],
   "outputs": [
    {
     "execution_count": 11,
     "data": {
      "text/plain": [
       "[u'items', u'errors', u'took']"
      ]
     },
     "metadata": {},
     "output_type": "execute_result"
    }
   ]
  },
  {
   "cell_type": "code",
   "execution_count": 12,
   "metadata": {
    "collapsed": false
   },
   "source": [
    "response['errors']"
   ],
   "outputs": [
    {
     "execution_count": 12,
     "data": {
      "text/plain": [
       "False"
      ]
     },
     "metadata": {},
     "output_type": "execute_result"
    }
   ]
  },
  {
   "cell_type": "code",
   "execution_count": null,
   "metadata": {
    "collapsed": false
   },
   "source": [],
   "outputs": []
  }
 ],
 "nbformat": 4,
 "nbformat_minor": 0,
 "metadata": {
  "kernelspec": {
   "name": "python2",
   "language": "python",
   "display_name": "Python 2"
  },
  "kernel_info": {
   "name": "python2"
  },
  "language_info": {
   "mimetype": "text/x-python",
   "nbconvert_exporter": "python",
   "name": "python",
   "pygments_lexer": "ipython2",
   "version": "2.7.12",
   "file_extension": ".py",
   "codemirror_mode": {
    "version": 2,
    "name": "ipython"
   }
  }
 }
}